{
 "cells": [
  {
   "cell_type": "markdown",
   "metadata": {},
   "source": [
    "# <span style=\"color:#0080FF;\">Udacity - Data Analyst Nanodegree </span>\n",
    "## <span style=\"color:#B45F04;\">Project 5: Identify Fraud from Enron Email</span>\n",
    "### <span style=\"color:black;\">Created by: Layne Newhouse</span>\n",
    "### <span style=\"color:#6E6E6E;\">Submitted: December X, 2016</span>"
   ]
  },
  {
   "cell_type": "markdown",
   "metadata": {},
   "source": [
    "### *Background Information*\n",
    "\n",
    "In 2000, Enron was one of the largest companies in the United States. By 2002, it had collapsed into bankruptcy due to widespread corporate fraud. In the resulting Federal investigation, a significant amount of typically confidential information entered into the public record, including tens of thousands of emails and detailed financial data for top executives. In this project, we will be playing detective by building a person of interest identifier based on financial and email data made public as a result of the Enron scandal. Labels will be provided via a hand-generated list of persons of interest in the fraud case, which means individuals who were indicted, reached a settlement or plea deal with the government, or testified in exchange for prosecution immunity. Features for the dataset include a subset of financial features as well as email features as follows:\n"
   ]
  },
  {
   "cell_type": "markdown",
   "metadata": {},
   "source": [
    "<b>Financial Features:</b> ['salary', 'deferral_payments', 'total_payments', 'loan_advances', 'bonus', 'restricted_stock_deferred', 'deferred_income', 'total_stock_value', 'expenses', 'exercised_stock_options', 'other', 'long_term_incentive', 'restricted_stock', 'director_fees'] (all units are in US dollars)\n",
    "\n",
    "<b>Email Features:</b> ['to_messages', 'email_address', 'from_poi_to_this_person', 'from_messages', 'from_this_person_to_poi', 'shared_receipt_with_poi'] (units are generally number of emails messages; notable exception is ‘email_address’, which is a text string)\n",
    "\n",
    "<b>POI Label:</b> [‘poi’] (boolean, represented as integer)"
   ]
  },
  {
   "cell_type": "markdown",
   "metadata": {},
   "source": [
    "### *Project Tasks*\n",
    "\n",
    "1. Select features\n",
    "2. Identify and remove outliers\n",
    "3. Create new features\n",
    "4. Analyze a variety of classifiers\n",
    "5. Tune a chosen classifier to achieve > 0.3 precision and recall\n",
    "6. Dump the classifier, dataset and feature list"
   ]
  },
  {
   "cell_type": "markdown",
   "metadata": {},
   "source": [
    "### *Getting Started*"
   ]
  },
  {
   "cell_type": "markdown",
   "metadata": {},
   "source": [
    "The list below is a consolidation of the imported functions and modules that were used throughout the project. Having these imports in one place as opposed to scattered across the code makes it cleaner and easier to read. "
   ]
  },
  {
   "cell_type": "code",
   "execution_count": 58,
   "metadata": {
    "collapsed": false
   },
   "outputs": [],
   "source": [
    "#standard modules used throughout\n",
    "import matplotlib.pyplot as plt\n",
    "import seaborn as sns \n",
    "import pandas as pd\n",
    "import numpy as np\n",
    "import warnings\n",
    "import pickle\n",
    "import sys\n",
    "#plots display in notebook\n",
    "%matplotlib inline\n",
    "#import math(scipy stats), time, and dictionary modules\n",
    "from collections import defaultdict\n",
    "from scipy.stats import randint\n",
    "from scipy import stats\n",
    "from time import time\n",
    "#import course provided functions\n",
    "from feature_format import featureFormat, targetFeatureSplit\n",
    "from tester import dump_classifier_and_data, test_classifier\n",
    "#import sklearn classifiers\n",
    "from sklearn.ensemble import RandomForestClassifier, AdaBoostClassifier\n",
    "from sklearn.neighbors import KNeighborsClassifier\n",
    "from sklearn.tree import DecisionTreeClassifier\n",
    "from sklearn.naive_bayes import GaussianNB\n",
    "from sklearn.svm import SVC\n",
    "#import additional sklearn modules \n",
    "from sklearn.model_selection import GridSearchCV, StratifiedShuffleSplit,\\\n",
    "                                    RandomizedSearchCV\n",
    "from sklearn.feature_selection import SelectKBest, f_classif\n",
    "from sklearn.pipeline import Pipeline, FeatureUnion\n",
    "from sklearn.preprocessing import MinMaxScaler\n",
    "from sklearn.decomposition import PCA\n",
    "#supresses warnings about cross_validation being depreciated in favour of\n",
    "#model_selection, introduced version 0.18 removed 0.20\n",
    "warnings.simplefilter(action = \"ignore\", category = FutureWarning)"
   ]
  },
  {
   "cell_type": "markdown",
   "metadata": {},
   "source": [
    "### *Understanding the Dataset*"
   ]
  },
  {
   "cell_type": "markdown",
   "metadata": {},
   "source": [
    "This section looks at important characteristics of the dataset such as total number of data points, allocation across classes (POI/non-POI), number of features used, and features with many missing values. In additional, any outliers in the dataset will be identified and removed if deemed necessary."
   ]
  },
  {
   "cell_type": "code",
   "execution_count": 152,
   "metadata": {
    "collapsed": true
   },
   "outputs": [],
   "source": [
    "#load the dictionary containing the dataset\n",
    "with open(\"final_project_dataset.pkl\", \"r\") as data_file:\n",
    "    enron_data = pickle.load(data_file)"
   ]
  },
  {
   "cell_type": "code",
   "execution_count": 153,
   "metadata": {
    "collapsed": false
   },
   "outputs": [
    {
     "name": "stdout",
     "output_type": "stream",
     "text": [
      "Total Number of People in the Dataset: 146\n"
     ]
    }
   ],
   "source": [
    "#total number of data points\n",
    "def total_people(dataset):\n",
    "    people = len(dataset)\n",
    "    print \"Total Number of People in the Dataset:\", people\n",
    "    \n",
    "total_people(enron_data)"
   ]
  },
  {
   "cell_type": "code",
   "execution_count": 154,
   "metadata": {
    "collapsed": false
   },
   "outputs": [
    {
     "name": "stdout",
     "output_type": "stream",
     "text": [
      "Number of POIs in the Dataset: 18 (12.33%)\n",
      "Number of Non-POIs in the Dataset: 128 (87.67%)\n"
     ]
    }
   ],
   "source": [
    "#allocation across classes (POI/non-POI)\n",
    "def total_classes(dataset):\n",
    "    poi = 0\n",
    "    people = 0\n",
    "    for person in dataset:\n",
    "        people += 1\n",
    "        if dataset[person][\"poi\"]==1:\n",
    "            poi += 1\n",
    "    poi_pct = 100*float(poi)/people\n",
    "    print \"Number of POIs in the Dataset:\",poi,\"(%0.2f%%)\"%poi_pct\n",
    "    print \"Number of Non-POIs in the Dataset:\",people-poi,\\\n",
    "                                                \"(%0.2f%%)\"%(100-poi_pct) \n",
    "\n",
    "total_classes(enron_data)"
   ]
  },
  {
   "cell_type": "markdown",
   "metadata": {},
   "source": [
    "By analyzing the data with the snippets of code above, we can start to understand what our dataset looks like and what each of the of the features have to offer in terms of the number and percentage of datapoints (or people) with missing values for each individual feature.\n",
    "\n",
    "Before removing any 'bad data' or outliers from our data, we see that we have 146 data points (people) in the dataset. Of those people, 18 (12.3%) are labeled as Persons of Interest (POIs) and 128 (87.7%) are labeled as Non-POIs. With such a small dataset and a small pool of data points being classified as 'true' for being a POI we must be careful with the removal of outliers as well as the way in which we train and test our classifiers. Such precaussions would be to not remove POIs unless abosolutely needed as well as using the entire dataset to train our classifier and then validate it using a stratified shuffle as opposed to a simple test/train split. (We will go into further detail of this in the following sections)."
   ]
  },
  {
   "cell_type": "code",
   "execution_count": 155,
   "metadata": {
    "collapsed": false
   },
   "outputs": [
    {
     "name": "stdout",
     "output_type": "stream",
     "text": [
      "Number of Features Available: 21\n",
      "\n",
      "List of Features: ['salary', 'to_messages', 'deferral_payments', 'total_payments', 'exercised_stock_options', 'bonus', 'restricted_stock', 'shared_receipt_with_poi', 'restricted_stock_deferred', 'total_stock_value', 'expenses', 'loan_advances', 'from_messages', 'other', 'from_this_person_to_poi', 'poi', 'director_fees', 'deferred_income', 'long_term_incentive', 'email_address', 'from_poi_to_this_person']\n"
     ]
    }
   ],
   "source": [
    "#number of features used\n",
    "features = []\n",
    "for key, value in enron_data.iteritems() :\n",
    "    for item in value:\n",
    "        if item not in features:\n",
    "            features.append(item)\n",
    "print \"Number of Features Available:\", len(features)\n",
    "print \"\\nList of Features:\", features"
   ]
  },
  {
   "cell_type": "code",
   "execution_count": 156,
   "metadata": {
    "collapsed": false
   },
   "outputs": [
    {
     "name": "stdout",
     "output_type": "stream",
     "text": [
      "Missing Features [Total, POI]:\n",
      "defaultdict(<type 'list'>, {'salary': [51, 1], 'to_messages': [60, 4], 'deferral_payments': [107, 13], 'total_payments': [21, 0], 'loan_advances': [142, 17], 'bonus': [64, 2], 'email_address': [35, 0], 'restricted_stock_deferred': [128, 18], 'total_stock_value': [20, 0], 'shared_receipt_with_poi': [60, 4], 'long_term_incentive': [80, 6], 'exercised_stock_options': [44, 6], 'from_messages': [60, 4], 'other': [53, 0], 'from_poi_to_this_person': [60, 4], 'from_this_person_to_poi': [60, 4], 'poi': [0, 0], 'deferred_income': [97, 7], 'expenses': [51, 0], 'restricted_stock': [36, 1], 'director_fees': [129, 18]})\n",
      "\n",
      "Missing Features as a Percentile [Total %, POI %]:\n",
      "defaultdict(<type 'list'>, {'salary': ['43.6', '5.6'], 'to_messages': ['51.3', '22.2'], 'deferral_payments': ['91.5', '72.2'], 'total_payments': ['17.9', '0.0'], 'loan_advances': ['121.4', '94.4'], 'bonus': ['54.7', '11.1'], 'email_address': ['29.9', '0.0'], 'restricted_stock_deferred': ['109.4', '100.0'], 'total_stock_value': ['17.1', '0.0'], 'shared_receipt_with_poi': ['51.3', '22.2'], 'long_term_incentive': ['68.4', '33.3'], 'exercised_stock_options': ['37.6', '33.3'], 'from_messages': ['51.3', '22.2'], 'other': ['45.3', '0.0'], 'from_poi_to_this_person': ['51.3', '22.2'], 'from_this_person_to_poi': ['51.3', '22.2'], 'poi': ['0.0', '0.0'], 'deferred_income': ['82.9', '38.9'], 'expenses': ['43.6', '0.0'], 'restricted_stock': ['30.8', '5.6'], 'director_fees': ['110.3', '100.0']})\n"
     ]
    },
    {
     "data": {
      "image/png": "[encoded data removed]",
      "text/plain": [
       "<matplotlib.figure.Figure at 0xd296a20>"
      ]
     },
     "metadata": {},
     "output_type": "display_data"
    }
   ],
   "source": [
    "#indentifying features with missing values\n",
    "missing_features = defaultdict(list)\n",
    "mf_percent = defaultdict(list)\n",
    "mf_poi = []\n",
    "for feature in features:\n",
    "    missing_features[feature] = [0,0]\n",
    "    mf_percent[feature] = [0,0]\n",
    "    \n",
    "for person in enron_data:\n",
    "    for feature in features:\n",
    "        if enron_data[person][feature] == 'NaN':\n",
    "            missing_features[feature][0] += 1\n",
    "            if enron_data[person][\"poi\"] == 1:\n",
    "                missing_features[feature][1] += 1\n",
    "                \n",
    "for feature in missing_features:\n",
    "    x = (100*missing_features[feature][0] / float(people))\n",
    "    mf_percent[feature][0] = \"%0.1f\" % x\n",
    "    y = (100*missing_features[feature][1] / float(poi))\n",
    "    mf_percent[feature][1] = \"%0.1f\" % y\n",
    "    mf_poi.append(y)\n",
    "    \n",
    "print \"Missing Features [Total, POI]:\\n\", missing_features\n",
    "print \"\\nMissing Features as a Percentile [Total %, POI %]:\\n\", mf_percent\n",
    "\n",
    "plt.hist(mf_poi)\n",
    "plt.title(\"Features for POIs\")\n",
    "plt.xlabel(\"% Missing Values\")\n",
    "plt.ylabel(\"Frequency\")\n",
    "plt.show()"
   ]
  },
  {
   "cell_type": "markdown",
   "metadata": {},
   "source": [
    "As seen from above, there are 21 features avaialbe in the dataset, one of them being the POI label. By printing out the labels we can verify that they are indeed legitimate labels (in terms of the strings themselves). Next we tallied the number of 'NaN's in each label and compared them against the POI allocations. Here we observe that there are a number of features that have a significant amount of missing values for POIs. By creating a quick plot we can see that there are a group of three features with over 90% of the POIs missing values for and one feature with over 70% of the POIs missing values for. Since we only have 18 POIs to begin with, features in which many POI's don't have values for will not provide a lot of information on how to identify the POIs and will likely confuse our classifiers since any NaN's will be later converted into zeros. Therefore the following features will be removed from the analysis:"
   ]
  },
  {
   "cell_type": "code",
   "execution_count": 157,
   "metadata": {
    "collapsed": false
   },
   "outputs": [
    {
     "name": "stdout",
     "output_type": "stream",
     "text": [
      "Removed Features:\n",
      "['deferral_payments', 'loan_advances', 'restricted_stock_deferred', 'director_fees']\n"
     ]
    }
   ],
   "source": [
    "#removing features\n",
    "removed_features = []\n",
    "for feature in mf_percent:\n",
    "    if float(mf_percent[feature][1]) > 70:\n",
    "        removed_features.append(feature)\n",
    "        enron_data.pop(feature, 0)\n",
    "print \"Removed Features:\\n\", removed_features"
   ]
  },
  {
   "cell_type": "markdown",
   "metadata": {},
   "source": [
    "Next we will do a similar missing value analysis but this time on the data points instead of the features. This will allow us to identify any people that aren't providing a significant amount of information and then choose whether or not we would like to exclude them from the dataset."
   ]
  },
  {
   "cell_type": "code",
   "execution_count": 158,
   "metadata": {
    "collapsed": false
   },
   "outputs": [
    {
     "data": {
      "image/png": "[encoded data removed]",
      "text/plain": [
       "<matplotlib.figure.Figure at 0xc141a90>"
      ]
     },
     "metadata": {},
     "output_type": "display_data"
    }
   ],
   "source": [
    "#indentifying persons with missing values\n",
    "names = []\n",
    "zeros = []\n",
    "pois = []\n",
    "for person in enron_data:\n",
    "    zero = 0\n",
    "    pois.append(enron_data[person]['poi'])\n",
    "    for key in enron_data[person]:\n",
    "        value = enron_data[person][key]\n",
    "        if value == (0 or 'NaN'):\n",
    "            zero += 1\n",
    "    names.append(person)\n",
    "    zeros.append(zero)\n",
    "#seperating zeros with POI allocation\n",
    "poi_true = []\n",
    "poi_false = []\n",
    "for i in range(0, len(zeros)):\n",
    "    if pois[i] == True:\n",
    "        poi_true.append(zeros[i])\n",
    "    else:\n",
    "        poi_false.append(zeros[i])\n",
    "#histogram of persons by number of NaN values, seperated by POI allocation\n",
    "binwidth = 1\n",
    "bins= range(min(poi_false), max(poi_false) + binwidth, binwidth)\n",
    "plt.hist(poi_true, bins, alpha=0.5, label='POI')\n",
    "plt.hist(poi_false, bins, alpha=0.5, label='Non POI')\n",
    "plt.legend(loc='upper right')\n",
    "plt.xticks(np.arange(min(poi_false), max(poi_false)+1, 1.0))\n",
    "plt.title('Histogram of Persons by Number of \\'NaN\\' values')\n",
    "plt.xlabel(\"No. Missing Values\")\n",
    "plt.ylabel(\"No. Persons\")\n",
    "plt.show()"
   ]
  },
  {
   "cell_type": "markdown",
   "metadata": {},
   "source": [
    "The problem, as stated above, with having too many NaNs they will eventually all converted into zeros and then processed by the classifiers. Thus if there was a large group of people that were all classified as Non POI and had many missing feature values the classifiers could wrongly associate these missing feature values, or zeros, as being a trait of Non-POIs.\n",
    "\n",
    "The visualization above shows us the amount of people that have x features missing from the total feature set, x being denoted on the x-axis. Since we do not want to remove any POIs from the dataset, we will remove all datapoints that have 14 or more missing feature values."
   ]
  },
  {
   "cell_type": "code",
   "execution_count": 159,
   "metadata": {
    "collapsed": false
   },
   "outputs": [
    {
     "name": "stdout",
     "output_type": "stream",
     "text": [
      "No. Datapoints Removed: 31 \n",
      "\n",
      "['LOWRY CHARLES P', 'WALTERS GARETH W', 'CHAN RONNIE', 'BELFER ROBERT', 'WODRASKA JOHN', 'URQUHART JOHN A', 'WHALEY DAVID A', 'MENDELSOHN JOHN', 'CLINE KENNETH W', 'WAKEHAM JOHN', 'DUNCAN JOHN H', 'LEMAISTRE CHARLES', 'WROBEL BRUCE', 'MEYER JEROME J', 'SCRIMSHAW MATTHEW', 'GATHMANN WILLIAM D', 'GILLIS JOHN', 'LOCKHART EUGENE E', 'PEREIRA PAULO V. FERRAZ', 'BLAKE JR. NORMAN P', 'PRENTICE JAMES', 'GRAY RODNEY', 'THE TRAVEL AGENCY IN THE PARK', 'NOLES JAMES L', 'CHRISTODOULOU DIOMEDES', 'WINOKUR JR. HERBERT S', 'BADUM JAMES P', 'YEAP SOON', 'FUGH JOHN L', 'SAVAGE FRANK', 'GRAMM WENDY L']\n"
     ]
    }
   ],
   "source": [
    "removed_names = []\n",
    "for i in range(0, len(names)):\n",
    "    if zeros[i] >= 14:\n",
    "        enron_data.pop(names[i], 0)\n",
    "        removed_names.append(names[i])\n",
    "\n",
    "print \"No. Datapoints Removed:\", len(removed_names), \"\\n\\n\", removed_names"
   ]
  },
  {
   "cell_type": "code",
   "execution_count": 160,
   "metadata": {
    "collapsed": false
   },
   "outputs": [
    {
     "name": "stdout",
     "output_type": "stream",
     "text": [
      "Total Number of People in the Dataset: 115\n",
      "Number of POIs in the Dataset: 18 (15.65%)\n",
      "Number of Non-POIs in the Dataset: 97 (84.35%)\n"
     ]
    }
   ],
   "source": [
    "#total number of data points\n",
    "total_people(enron_data)\n",
    "#allocation across classes (POI/non-POI)\n",
    "total_classes(enron_data)"
   ]
  },
  {
   "cell_type": "markdown",
   "metadata": {},
   "source": []
  },
  {
   "cell_type": "code",
   "execution_count": null,
   "metadata": {
    "collapsed": true
   },
   "outputs": [],
   "source": []
  },
  {
   "cell_type": "code",
   "execution_count": null,
   "metadata": {
    "collapsed": true
   },
   "outputs": [],
   "source": []
  },
  {
   "cell_type": "code",
   "execution_count": null,
   "metadata": {
    "collapsed": true
   },
   "outputs": [],
   "source": []
  },
  {
   "cell_type": "code",
   "execution_count": null,
   "metadata": {
    "collapsed": true
   },
   "outputs": [],
   "source": []
  }
 ],
 "metadata": {
  "kernelspec": {
   "display_name": "Python 2",
   "language": "python",
   "name": "python2"
  },
  "language_info": {
   "codemirror_mode": {
    "name": "ipython",
    "version": 2
   },
   "file_extension": ".py",
   "mimetype": "text/x-python",
   "name": "python",
   "nbconvert_exporter": "python",
   "pygments_lexer": "ipython2",
   "version": "2.7.11"
  }
 },
 "nbformat": 4,
 "nbformat_minor": 0
}
