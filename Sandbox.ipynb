{
 "cells": [
  {
   "cell_type": "code",
   "execution_count": 1,
   "metadata": {
    "collapsed": false
   },
   "outputs": [
    {
     "name": "stderr",
     "output_type": "stream",
     "text": [
      "C:\\Users\\layne\\Anaconda2\\lib\\site-packages\\sklearn\\cross_validation.py:44: DeprecationWarning: This module was deprecated in version 0.18 in favor of the model_selection module into which all the refactored classes and functions are moved. Also note that the interface of the new CV iterators are different from that of this module. This module will be removed in 0.20.\n",
      "  \"This module will be removed in 0.20.\", DeprecationWarning)\n"
     ]
    }
   ],
   "source": [
    "import matplotlib.pyplot as plt\n",
    "import seaborn as sns \n",
    "import pandas as pd\n",
    "import numpy as np\n",
    "import warnings\n",
    "import pickle\n",
    "import sys\n",
    "\n",
    "%matplotlib inline\n",
    "sys.path.append(\"../tools/\")\n",
    "\n",
    "from feature_format import featureFormat, targetFeatureSplit\n",
    "from tester import dump_classifier_and_data, test_classifier\n",
    "\n",
    "from sklearn.model_selection import GridSearchCV, StratifiedShuffleSplit, RandomizedSearchCV\n",
    "from sklearn.feature_selection import SelectKBest, f_classif\n",
    "from sklearn.pipeline import Pipeline, FeatureUnion\n",
    "from sklearn.preprocessing import MinMaxScaler\n",
    "from sklearn.decomposition import PCA\n",
    "from scipy.stats import randint\n",
    "from scipy import stats\n",
    "from time import time\n",
    "\n",
    "from sklearn.ensemble import RandomForestClassifier, AdaBoostClassifier\n",
    "from sklearn.neighbors import KNeighborsClassifier\n",
    "from sklearn.tree import DecisionTreeClassifier\n",
    "from sklearn.naive_bayes import GaussianNB\n",
    "from sklearn.svm import SVC"
   ]
  },
  {
   "cell_type": "code",
   "execution_count": 2,
   "metadata": {
    "collapsed": true
   },
   "outputs": [],
   "source": [
    "with open(\"final_project_dataset.pkl\", \"r\") as data_file:\n",
    "    enron_data = pickle.load(data_file)"
   ]
  },
  {
   "cell_type": "code",
   "execution_count": 3,
   "metadata": {
    "collapsed": false
   },
   "outputs": [],
   "source": [
    "names = []\n",
    "zeros = []\n",
    "pois = []\n",
    "for person in enron_data:\n",
    "    zero = 0\n",
    "    pois.append(enron_data[person]['poi'])\n",
    "    for key in enron_data[person]:\n",
    "        value = enron_data[person][key]\n",
    "        if value == (0 or 'NaN'):\n",
    "            zero += 1\n",
    "    names.append(person)\n",
    "    zeros.append(zero)"
   ]
  },
  {
   "cell_type": "code",
   "execution_count": 4,
   "metadata": {
    "collapsed": false
   },
   "outputs": [],
   "source": [
    "poi_true = []\n",
    "poi_false = []\n",
    "for i in range(0, len(zeros)):\n",
    "    if pois[i] == True:\n",
    "        poi_true.append(zeros[i])\n",
    "    else:\n",
    "        poi_false.append(zeros[i])"
   ]
  },
  {
   "cell_type": "code",
   "execution_count": 5,
   "metadata": {
    "collapsed": false
   },
   "outputs": [
    {
     "data": {
      "image/png": "[encoded data removed]",
      "text/plain": [
       "<matplotlib.figure.Figure at 0xb59ef98>"
      ]
     },
     "metadata": {},
     "output_type": "display_data"
    }
   ],
   "source": [
    "binwidth = 1\n",
    "bins= range(min(poi_false), max(poi_false) + binwidth, binwidth)\n",
    "\n",
    "plt.hist(poi_true, bins, alpha=0.5, label='POI')\n",
    "plt.hist(poi_false, bins, alpha=0.5, label='Non POI')\n",
    "plt.legend(loc='upper right')\n",
    "plt.xticks(np.arange(min(poi_false), max(poi_false)+1, 1.0))\n",
    "plt.xlim(0, 22)\n",
    "plt.show()"
   ]
  },
  {
   "cell_type": "code",
   "execution_count": 6,
   "metadata": {
    "collapsed": false
   },
   "outputs": [
    {
     "name": "stdout",
     "output_type": "stream",
     "text": [
      "LOWRY CHARLES P\n",
      "WALTERS GARETH W\n",
      "CHAN RONNIE\n",
      "BELFER ROBERT\n",
      "WODRASKA JOHN\n",
      "URQUHART JOHN A\n",
      "WHALEY DAVID A\n",
      "MENDELSOHN JOHN\n",
      "CLINE KENNETH W\n",
      "WAKEHAM JOHN\n",
      "DUNCAN JOHN H\n",
      "LEMAISTRE CHARLES\n",
      "WROBEL BRUCE\n",
      "MEYER JEROME J\n",
      "SCRIMSHAW MATTHEW\n",
      "GATHMANN WILLIAM D\n",
      "GILLIS JOHN\n",
      "LOCKHART EUGENE E\n",
      "PEREIRA PAULO V. FERRAZ\n",
      "BLAKE JR. NORMAN P\n",
      "PRENTICE JAMES\n",
      "GRAY RODNEY\n",
      "THE TRAVEL AGENCY IN THE PARK\n",
      "NOLES JAMES L\n",
      "CHRISTODOULOU DIOMEDES\n",
      "WINOKUR JR. HERBERT S\n",
      "BADUM JAMES P\n",
      "YEAP SOON\n",
      "FUGH JOHN L\n",
      "SAVAGE FRANK\n",
      "GRAMM WENDY L\n"
     ]
    },
    {
     "data": {
      "text/plain": [
       "{'bonus': 97343619,\n",
       " 'deferral_payments': 32083396,\n",
       " 'deferred_income': -27992891,\n",
       " 'director_fees': 1398517,\n",
       " 'email_address': 'NaN',\n",
       " 'exercised_stock_options': 311764000,\n",
       " 'expenses': 5235198,\n",
       " 'from_messages': 'NaN',\n",
       " 'from_poi_to_this_person': 'NaN',\n",
       " 'from_this_person_to_poi': 'NaN',\n",
       " 'loan_advances': 83925000,\n",
       " 'long_term_incentive': 48521928,\n",
       " 'other': 42667589,\n",
       " 'poi': False,\n",
       " 'restricted_stock': 130322299,\n",
       " 'restricted_stock_deferred': -7576788,\n",
       " 'salary': 26704229,\n",
       " 'shared_receipt_with_poi': 'NaN',\n",
       " 'to_messages': 'NaN',\n",
       " 'total_payments': 309886585,\n",
       " 'total_stock_value': 434509511}"
      ]
     },
     "execution_count": 6,
     "metadata": {},
     "output_type": "execute_result"
    }
   ],
   "source": [
    "for i in range(0, len(zeros)):\n",
    "    if zeros[i] > 13:\n",
    "        enron_data.pop(names[i], 0)\n",
    "        print names[i]\n",
    "        \n",
    "enron_data.pop(\"TOTAL\", 0)"
   ]
  },
  {
   "cell_type": "code",
   "execution_count": null,
   "metadata": {
    "collapsed": true
   },
   "outputs": [],
   "source": []
  },
  {
   "cell_type": "code",
   "execution_count": 7,
   "metadata": {
    "collapsed": true
   },
   "outputs": [],
   "source": [
    "def add_one(array):\n",
    "    new_array = [x+1 for x in array]\n",
    "    return new_array"
   ]
  },
  {
   "cell_type": "code",
   "execution_count": 8,
   "metadata": {
    "collapsed": false
   },
   "outputs": [],
   "source": [
    "enron_df = pd.DataFrame.from_dict(enron_data, \"index\")\n",
    "\n",
    "financial_features = ['salary', 'deferral_payments', 'total_payments', 'loan_advances', 'bonus',\n",
    "                      'restricted_stock_deferred', 'deferred_income', 'total_stock_value', 'expenses',\n",
    "                      'exercised_stock_options', 'other', 'long_term_incentive', 'restricted_stock', 'director_fees']\n",
    "removed_financial_features = ['deferral_payments', 'loan_advances', 'restricted_stock_deferred', 'director_fees']\n",
    "\n",
    "financial_features = [feature for feature in financial_features if feature not in removed_financial_features]\n",
    "financial_df = enron_df[financial_features]\n",
    "financial_df = financial_df.replace(\"NaN\", 0)\n",
    "financial_df[\"bonus_over_salary\"] = financial_df[\"bonus\"] / financial_df[\"salary\"]\n",
    "financial_df[\"stock_value_over_salary\"] = financial_df[\"total_stock_value\"] / financial_df[\"salary\"]\n",
    "\n",
    "financial_df = financial_df.drop(\"exercised_stock_options\", 1)\n",
    "\n",
    "financial_df = financial_df.apply(abs).apply(add_one).apply(np.log10)\n",
    "\n",
    "email_features = ['to_messages', 'from_poi_to_this_person', 'from_messages', \n",
    "                  'from_this_person_to_poi', 'shared_receipt_with_poi']\n",
    "\n",
    "email_df = enron_df[email_features]\n",
    "email_df = email_df.replace(\"NaN\", 0)\n",
    "email_df[\"received_from_poi_over_total_received\"] = email_df[\"from_poi_to_this_person\"] / email_df[\"to_messages\"]\n",
    "email_df[\"sent_to_poi_over_total_sent\"] = email_df[\"from_this_person_to_poi\"] / email_df[\"from_messages\"]\n",
    "email_df = email_df.apply(add_one).apply(np.log10)\n",
    "\n",
    "features_df = financial_df.join(email_df).join(enron_df[\"poi\"])\n",
    "features_df[\"payments_over_sent_poi_ratio\"] = financial_df[\"total_payments\"] / email_df[\"sent_to_poi_over_total_sent\"]\n",
    "features_df[\"payments_over_received_poi_ratio\"] = financial_df[\"total_payments\"] / email_df[\"received_from_poi_over_total_received\"]\n",
    "\n",
    "features_df = features_df.replace([\"inf\",\"-inf\", \"NaN\"], 0)\n",
    "dataset = features_df.to_dict(orient='index')\n",
    "\n",
    "labels_df = enron_df[\"poi\"]\n",
    "\n",
    "feature_list = []\n",
    "feature_list = features_df.columns.tolist()\n",
    "#move poi to front of list for tester.py\n",
    "feature_list.insert(0, feature_list.pop(feature_list.index('poi')))\n"
   ]
  },
  {
   "cell_type": "markdown",
   "metadata": {},
   "source": [
    "PCA before SelectKBest in order to reduce infromation loss. Using Gaussian NB in one test PCA before SKB increased the F1 score from 0.26316 to 0.35967"
   ]
  },
  {
   "cell_type": "code",
   "execution_count": 9,
   "metadata": {
    "collapsed": false
   },
   "outputs": [],
   "source": [
    "pipe = Pipeline(steps=[\n",
    "        ('scale1', MinMaxScaler()),\n",
    "        ('pca', PCA()),\n",
    "        ('scale2', MinMaxScaler()),\n",
    "        ('skb', SelectKBest())\n",
    "    ])\n",
    "param = {\n",
    "        'pca__n_components':randint(8,19),\n",
    "        'skb__k':randint(1,9)\n",
    "    }"
   ]
  },
  {
   "cell_type": "code",
   "execution_count": 10,
   "metadata": {
    "collapsed": false
   },
   "outputs": [],
   "source": [
    "names = []\n",
    "pipes = []\n",
    "params = []\n",
    "\n",
    "names.append('Gaussian Naive Bayes')\n",
    "pipes.append(('gnb', GaussianNB()))\n",
    "params.append({\n",
    "    })\n",
    "\n",
    "names.append('Support Vector Machine')\n",
    "pipes.append(('svc', SVC()))\n",
    "params.append({\n",
    "        'svc__kernel':('poly', 'rbf', 'sigmoid'), \n",
    "        'svc__C':randint(1,151), \n",
    "        'svc__gamma':randint(1,21)\n",
    "    })\n",
    "\n",
    "names.append('Decision Tree Classifier')\n",
    "pipes.append(('dtc', DecisionTreeClassifier()))\n",
    "params.append({\n",
    "        'dtc__criterion':('gini', 'entropy'), \n",
    "        'dtc__splitter':('best', 'random'),\n",
    "        'dtc__min_samples_split':randint(2,26),\n",
    "        'dtc__max_depth':randint(10,51),\n",
    "        'dtc__max_leaf_nodes':randint(5,31)\n",
    "    })\n",
    "\n",
    "names.append('K Neigbors Classifier')\n",
    "pipes.append(('knc', KNeighborsClassifier()))\n",
    "params.append({\n",
    "        'knc__n_neighbors':randint(1, 31), \n",
    "        'knc__weights':('uniform', 'distance')\n",
    "    })\n",
    "\n",
    "names.append('Random Forest Classifier')\n",
    "pipes.append(('rfc', RandomForestClassifier()))\n",
    "params.append({\n",
    "        'rfc__n_estimators':randint(2,11), \n",
    "        'rfc__criterion':('gini','entropy')\n",
    "    })\n",
    "\n",
    "names.append('AdaBoost Classifier')\n",
    "pipes.append(('abc', AdaBoostClassifier()))\n",
    "params.append({\n",
    "        'abc__n_estimators':randint(2,11), \n",
    "        'abc__learning_rate':randint(1,6)\n",
    "    })\n",
    "\n",
    "pipelines = []\n",
    "parameters = []\n",
    "\n",
    "for i in range(0, len(pipes)):\n",
    "    pipelines.append(Pipeline(steps=[x for x in pipe.steps]))\n",
    "    pipelines[i].steps.append(pipes[i])\n",
    "    parameters.append(param.copy())\n",
    "    parameters[i].update(params[i])\n",
    "    \n",
    "classifiers = []\n",
    "classifiers.extend((names, pipelines, parameters))"
   ]
  },
  {
   "cell_type": "code",
   "execution_count": 11,
   "metadata": {
    "collapsed": true
   },
   "outputs": [],
   "source": [
    "def search_test_clf(n_iter, n_splits, folds, clfs, dataset, feature_list):\n",
    "    \n",
    "    data = featureFormat(dataset, feature_list, sort_keys = True)\n",
    "    labels, features = targetFeatureSplit(data)\n",
    "    cv = StratifiedShuffleSplit(n_splits=n_splits, random_state=42, \n",
    "                                          test_size=0.3)\n",
    "    start = time()\n",
    "    for i in range(0,len(clfs[0])):\n",
    "        print \"\\n\", clfs[0][i], \"------------------------------------------\"\n",
    "        \n",
    "        t0 = time() \n",
    "        warnings.filterwarnings('ignore')\n",
    "        rs = RandomizedSearchCV(clfs[1][i], param_distributions=clfs[2][i],\n",
    "                                n_iter=n_iter, scoring='f1', cv=cv,\n",
    "                                random_state=42)\n",
    "        rs.fit(features, labels)\n",
    "        print \"\\nSearch/Fit Time:\", round(time()-t0, 3), \"s\\n\"\n",
    "\n",
    "        t0 = time() \n",
    "        test_classifier(rs.best_estimator_, dataset, feature_list, folds=folds)\n",
    "        print \"Test Time:\", round(time()-t0, 3), \"s\"\n",
    "    \n",
    "    print \"\\nTotal Run Time:\", round(time()-start, 3), \"s\""
   ]
  },
  {
   "cell_type": "code",
   "execution_count": 12,
   "metadata": {
    "collapsed": false
   },
   "outputs": [],
   "source": [
    "def remove_classifier(target, clfs):\n",
    "    for i in range(0,len(clfs[0])):\n",
    "        if clfs[0][i] == target:\n",
    "            clfs[0].remove(clfs[0][i])\n",
    "            clfs[1].remove(clfs[1][i])\n",
    "            clfs[2].remove(clfs[2][i])\n",
    "            break"
   ]
  },
  {
   "cell_type": "code",
   "execution_count": 13,
   "metadata": {
    "collapsed": false
   },
   "outputs": [
    {
     "name": "stdout",
     "output_type": "stream",
     "text": [
      "GaussianNB(priors=None)\n",
      "\tAccuracy: 0.71758\tPrecision: 0.35754\tRecall: 0.87150\tF1: 0.50705\tF2: 0.67689\n",
      "\tTotal predictions: 12000\tTrue positives: 1743\tFalse positives: 3132\tFalse negatives:  257\tTrue negatives: 6868\n",
      "\n"
     ]
    }
   ],
   "source": [
    "test_classifier(GaussianNB(), dataset, feature_list)"
   ]
  },
  {
   "cell_type": "markdown",
   "metadata": {},
   "source": [
    "Testing Classifiers, first run through"
   ]
  },
  {
   "cell_type": "code",
   "execution_count": null,
   "metadata": {
    "collapsed": true
   },
   "outputs": [],
   "source": [
    "remove_classifier(\"Random Forest Classifier\", classifiers)"
   ]
  },
  {
   "cell_type": "code",
   "execution_count": null,
   "metadata": {
    "collapsed": true
   },
   "outputs": [],
   "source": [
    "remove_classifier(\"AdaBoost Classifier\", classifiers)"
   ]
  },
  {
   "cell_type": "code",
   "execution_count": 16,
   "metadata": {
    "collapsed": false
   },
   "outputs": [
    {
     "name": "stdout",
     "output_type": "stream",
     "text": [
      "\n",
      "Gaussian Naive Bayes ------------------------------------------\n",
      "\n",
      "Search/Fit Time: 4.266 s\n",
      "\n",
      "Pipeline(steps=[('scale1', MinMaxScaler(copy=True, feature_range=(0, 1))), ('pca', PCA(copy=True, iterated_power='auto', n_components=10, random_state=None,\n",
      "  svd_solver='auto', tol=0.0, whiten=False)), ('scale2', MinMaxScaler(copy=True, feature_range=(0, 1))), ('skb', SelectKBest(k=6, score_func=<function f_classif at 0x000000000AB26898>)), ('gnb', GaussianNB(priors=None))])\n",
      "\tAccuracy: 0.83233\tPrecision: 0.49370\tRecall: 0.23500\tF1: 0.31843\tF2: 0.26251\n",
      "\tTotal predictions: 12000\tTrue positives:  470\tFalse positives:  482\tFalse negatives: 1530\tTrue negatives: 9518\n",
      "\n",
      "Test Time: 2.194 s\n",
      "\n",
      "Support Vector Machine ------------------------------------------\n",
      "\n",
      "Search/Fit Time: 38.571 s\n",
      "\n",
      "Pipeline(steps=[('scale1', MinMaxScaler(copy=True, feature_range=(0, 1))), ('pca', PCA(copy=True, iterated_power='auto', n_components=11, random_state=None,\n",
      "  svd_solver='auto', tol=0.0, whiten=False)), ('scale2', MinMaxScaler(copy=True, feature_range=(0, 1))), ('skb', SelectKBest(k=8, score_func=<function f...,\n",
      "  max_iter=-1, probability=False, random_state=None, shrinking=True,\n",
      "  tol=0.001, verbose=False))])\n",
      "\tAccuracy: 0.79692\tPrecision: 0.38371\tRecall: 0.36050\tF1: 0.37175\tF2: 0.36492\n",
      "\tTotal predictions: 12000\tTrue positives:  721\tFalse positives: 1158\tFalse negatives: 1279\tTrue negatives: 8842\n",
      "\n",
      "Test Time: 2.978 s\n",
      "\n",
      "Decision Tree Classifier ------------------------------------------\n",
      "\n",
      "Search/Fit Time: 6.602 s\n",
      "\n",
      "Pipeline(steps=[('scale1', MinMaxScaler(copy=True, feature_range=(0, 1))), ('pca', PCA(copy=True, iterated_power='auto', n_components=12, random_state=None,\n",
      "  svd_solver='auto', tol=0.0, whiten=False)), ('scale2', MinMaxScaler(copy=True, feature_range=(0, 1))), ('skb', SelectKBest(k=7, score_func=<function f...    min_weight_fraction_leaf=0.0, presort=False, random_state=None,\n",
      "            splitter='random'))])\n",
      "\tAccuracy: 0.80233\tPrecision: 0.34184\tRecall: 0.20100\tF1: 0.25315\tF2: 0.21905\n",
      "\tTotal predictions: 12000\tTrue positives:  402\tFalse positives:  774\tFalse negatives: 1598\tTrue negatives: 9226\n",
      "\n",
      "Test Time: 2.366 s\n",
      "\n",
      "K Neigbors Classifier ------------------------------------------\n",
      "\n",
      "Search/Fit Time: 7.125 s\n",
      "\n",
      "Pipeline(steps=[('scale1', MinMaxScaler(copy=True, feature_range=(0, 1))), ('pca', PCA(copy=True, iterated_power='auto', n_components=13, random_state=None,\n",
      "  svd_solver='auto', tol=0.0, whiten=False)), ('scale2', MinMaxScaler(copy=True, feature_range=(0, 1))), ('skb', SelectKBest(k=6, score_func=<function f...wski',\n",
      "           metric_params=None, n_jobs=1, n_neighbors=4, p=2,\n",
      "           weights='distance'))])\n",
      "\tAccuracy: 0.83108\tPrecision: 0.48865\tRecall: 0.29050\tF1: 0.36438\tF2: 0.31614\n",
      "\tTotal predictions: 12000\tTrue positives:  581\tFalse positives:  608\tFalse negatives: 1419\tTrue negatives: 9392\n",
      "\n",
      "Test Time: 3.312 s\n",
      "\n",
      "Random Forest Classifier ------------------------------------------\n",
      "\n",
      "Search/Fit Time: 25.606 s\n",
      "\n",
      "Pipeline(steps=[('scale1', MinMaxScaler(copy=True, feature_range=(0, 1))), ('pca', PCA(copy=True, iterated_power='auto', n_components=8, random_state=None,\n",
      "  svd_solver='auto', tol=0.0, whiten=False)), ('scale2', MinMaxScaler(copy=True, feature_range=(0, 1))), ('skb', SelectKBest(k=8, score_func=<function f_...timators=3, n_jobs=1, oob_score=False, random_state=None,\n",
      "            verbose=0, warm_start=False))])\n",
      "\tAccuracy: 0.79758\tPrecision: 0.31461\tRecall: 0.18200\tF1: 0.23060\tF2: 0.19876\n",
      "\tTotal predictions: 12000\tTrue positives:  364\tFalse positives:  793\tFalse negatives: 1636\tTrue negatives: 9207\n",
      "\n",
      "Test Time: 13.89 s\n",
      "\n",
      "AdaBoost Classifier ------------------------------------------\n",
      "\n",
      "Search/Fit Time: 12.577 s\n",
      "\n",
      "Pipeline(steps=[('scale1', MinMaxScaler(copy=True, feature_range=(0, 1))), ('pca', PCA(copy=True, iterated_power='auto', n_components=14, random_state=None,\n",
      "  svd_solver='auto', tol=0.0, whiten=False)), ('scale2', MinMaxScaler(copy=True, feature_range=(0, 1))), ('skb', SelectKBest(k=3, score_func=<function f_classif at 0x000000000AB26898>)), ('abc', AdaBoostClassifier(algorithm='SAMME.R', base_estimator=None, learning_rate=2,\n",
      "          n_estimators=4, random_state=None))])\n",
      "\tAccuracy: 0.59700\tPrecision: 0.17237\tRecall: 0.37300\tF1: 0.23578\tF2: 0.30256\n",
      "\tTotal predictions: 12000\tTrue positives:  746\tFalse positives: 3582\tFalse negatives: 1254\tTrue negatives: 6418\n",
      "\n",
      "Test Time: 10.802 s\n",
      "\n",
      "Total Run Time: 130.29 s\n"
     ]
    }
   ],
   "source": [
    "search_test_clf(25, 25, 1000, classifiers, dataset, feature_list)"
   ]
  },
  {
   "cell_type": "code",
   "execution_count": null,
   "metadata": {
    "collapsed": false
   },
   "outputs": [],
   "source": [
    "search_test_clf(25, 25, 1000, classifiers, dataset, feature_list)"
   ]
  },
  {
   "cell_type": "code",
   "execution_count": 15,
   "metadata": {
    "collapsed": false
   },
   "outputs": [
    {
     "data": {
      "text/plain": [
       "{'bonus': 6.845098102056321,\n",
       " 'bonus_over_salary': 0.8766736123563331,\n",
       " 'deferred_income': 5.477122702365523,\n",
       " 'expenses': 4.999274121938199,\n",
       " 'from_messages': 1.568201724066995,\n",
       " 'from_poi_to_this_person': 2.093421685162235,\n",
       " 'from_this_person_to_poi': 1.2304489213782739,\n",
       " 'long_term_incentive': 6.556302621404627,\n",
       " 'other': 7.01534843677619,\n",
       " 'payments_over_received_poi_ratio': 650.33080241482,\n",
       " 'payments_over_sent_poi_ratio': 50.1887844419163,\n",
       " 'poi': True,\n",
       " 'received_from_poi_over_total_received': 0.012324790934256456,\n",
       " 'restricted_stock': 7.1691362278720145,\n",
       " 'salary': 6.0303252161635275,\n",
       " 'sent_to_poi_over_total_sent': 0.15970084286751188,\n",
       " 'shared_receipt_with_poi': 3.3823773034681137,\n",
       " 'stock_value_over_salary': 1.6702266080262649,\n",
       " 'to_messages': 3.630834517828051,\n",
       " 'total_payments': 8.0151911778699,\n",
       " 'total_stock_value': 7.691170632751772}"
      ]
     },
     "execution_count": 15,
     "metadata": {},
     "output_type": "execute_result"
    }
   ],
   "source": [
    "dataset.pop(\"LAY KENNETH L\",0)"
   ]
  },
  {
   "cell_type": "code",
   "execution_count": null,
   "metadata": {
    "collapsed": true
   },
   "outputs": [],
   "source": [
    "remove_classifier(\"Gaussian Naive Bayes\", classifiers)"
   ]
  },
  {
   "cell_type": "code",
   "execution_count": null,
   "metadata": {
    "collapsed": true
   },
   "outputs": [],
   "source": [
    "remove_classifier(\"Support Vector Machine\", classifiers)"
   ]
  },
  {
   "cell_type": "code",
   "execution_count": null,
   "metadata": {
    "collapsed": true
   },
   "outputs": [],
   "source": [
    "remove_classifier(\"Decision Tree Classifier\", classifiers)"
   ]
  },
  {
   "cell_type": "code",
   "execution_count": null,
   "metadata": {
    "collapsed": true
   },
   "outputs": [],
   "source": [
    "#remove_classifier(\"K Neigbors Classifier\", classifiers)"
   ]
  },
  {
   "cell_type": "code",
   "execution_count": null,
   "metadata": {
    "collapsed": false
   },
   "outputs": [],
   "source": [
    "names = []\n",
    "pipes = []\n",
    "params = []\n",
    "\n",
    "names.append('K Neigbors Classifier (Ball Tree)')\n",
    "pipes.append(('knc', KNeighborsClassifier()))\n",
    "params.append({\n",
    "        'knc__algorithm':['ball_tree'],\n",
    "        'knc__leaf_size':randint(5,100),\n",
    "        'knc__p':randint(1,5),\n",
    "        'knc__n_neighbors':randint(1,26), \n",
    "        'knc__weights':('uniform', 'distance')\n",
    "    })\n",
    "\n",
    "names.append('K Neigbors Classifier (KD Tree)')\n",
    "pipes.append(('knc', KNeighborsClassifier()))\n",
    "params.append({\n",
    "        'knc__algorithm':['kd_tree'],\n",
    "        'knc__leaf_size':randint(5,100),\n",
    "        'knc__p':randint(1,5),\n",
    "        'knc__n_neighbors':randint(1,26), \n",
    "        'knc__weights':('uniform', 'distance')\n",
    "    })\n",
    "\n",
    "names.append('K Neigbors Classifier (Brute)')\n",
    "pipes.append(('knc', KNeighborsClassifier()))\n",
    "params.append({\n",
    "        'knc__algorithm':['brute'],\n",
    "        'knc__p':randint(1,5),\n",
    "        'knc__n_neighbors':randint(1,26), \n",
    "        'knc__weights':('uniform', 'distance')\n",
    "    })\n",
    "\n",
    "pipelines = []\n",
    "parameters = []\n",
    "\n",
    "for i in range(0, len(pipes)):\n",
    "    pipelines.append(Pipeline(steps=[x for x in pipe.steps]))\n",
    "    pipelines[i].steps.append(pipes[i])\n",
    "    parameters.append(param.copy())\n",
    "    parameters[i].update(params[i])\n",
    "    \n",
    "classifiers = []\n",
    "classifiers.extend((names, pipelines, parameters))"
   ]
  },
  {
   "cell_type": "code",
   "execution_count": null,
   "metadata": {
    "collapsed": false
   },
   "outputs": [],
   "source": [
    "search_test_classifier(50, 50, 1000, classifiers, dataset, feature_list)"
   ]
  },
  {
   "cell_type": "code",
   "execution_count": null,
   "metadata": {
    "collapsed": true
   },
   "outputs": [],
   "source": [
    "remove_classifier(\"K Neigbors Classifier (KD Tree)\", classifiers)\n",
    "remove_classifier(\"K Neigbors Classifier (Brute)\", classifiers)"
   ]
  },
  {
   "cell_type": "code",
   "execution_count": null,
   "metadata": {
    "collapsed": false
   },
   "outputs": [],
   "source": [
    "search_test_classifier(500, 200, 1000, classifiers, dataset, feature_list)"
   ]
  },
  {
   "cell_type": "markdown",
   "metadata": {},
   "source": [
    "Random Forest takes far too long to run and test so we will remove it and increase the number of iterations and folds and re-test the classifiers"
   ]
  },
  {
   "cell_type": "code",
   "execution_count": null,
   "metadata": {
    "collapsed": false
   },
   "outputs": [],
   "source": [
    "remove_classifier(\"Random Forest Classifier\", classifiers)"
   ]
  },
  {
   "cell_type": "markdown",
   "metadata": {},
   "source": [
    "The results from the second itteration were that 3 of the 5 remaining classifiers (Gaussian Naive Bayes, Support Vector Machine, and AdaBoost) had F1 scores above 0.3. While SVM and AdaBoost did not pass on both recall and precision, we will try to run more iteration of the random search on these classifiers and see if there is any adjustments on parameters that we can make."
   ]
  },
  {
   "cell_type": "code",
   "execution_count": null,
   "metadata": {
    "collapsed": true
   },
   "outputs": [],
   "source": [
    "remove_classifier(\"Decision Tree Classifier\", classifiers)\n",
    "remove_classifier(\"K Neigbors Classifier\", classifiers)"
   ]
  },
  {
   "cell_type": "code",
   "execution_count": null,
   "metadata": {
    "collapsed": false
   },
   "outputs": [],
   "source": [
    "search_test_classifier(200, 200, 1000, classifiers, dataset, feature_list)"
   ]
  },
  {
   "cell_type": "code",
   "execution_count": null,
   "metadata": {
    "collapsed": false
   },
   "outputs": [],
   "source": [
    "search_test_classifier(200, 500, 1000, classifiers, dataset, feature_list)"
   ]
  },
  {
   "cell_type": "markdown",
   "metadata": {},
   "source": [
    "After testing the remaining classifiers with a higher number of parameter iterations and validation folds it can be seen that the Gaussian Naive Bayes classifier remains the classifer with the highest F1 score while having both percision and recall above 0.3. This being said, there could be better classifier/parameter combinations available that we not observed in this code due to the random search and/or the ranges for the random searches that were set in the parameter initalizations. "
   ]
  },
  {
   "cell_type": "code",
   "execution_count": null,
   "metadata": {
    "collapsed": false
   },
   "outputs": [],
   "source": [
    "pipe = Pipeline(steps=[\n",
    "        ('scaler', MinMaxScaler()),\n",
    "        ('pca', PCA()),\n",
    "        ('skb', SelectKBest()),\n",
    "        ('gnb', GaussianNB())\n",
    "    ])\n",
    "param = [{'skb__k':range(1,9),'pca__n_components':range(8,19)},\n",
    "         {'skb__k':range(1,8),'pca__n_components':[7]},\n",
    "         {'skb__k':range(1,7),'pca__n_components':[6]},\n",
    "         {'skb__k':range(1,6),'pca__n_components':[5]},\n",
    "         {'skb__k':range(1,5),'pca__n_components':[4]},\n",
    "         {'skb__k':range(1,4),'pca__n_components':[3]},\n",
    "         {'skb__k':range(1,3),'pca__n_components':[2]}]       "
   ]
  },
  {
   "cell_type": "code",
   "execution_count": null,
   "metadata": {
    "collapsed": false
   },
   "outputs": [],
   "source": [
    "cv = StratifiedShuffleSplit(n_splits=100, random_state=42, test_size=0.3)\n",
    "gs = GridSearchCV(pipe, param, scoring='f1', cv=cv)\n",
    "gs.fit(features_df, labels_df)\n",
    "clf = gs.best_estimator_\n",
    "gs.best_params_"
   ]
  },
  {
   "cell_type": "code",
   "execution_count": null,
   "metadata": {
    "collapsed": false
   },
   "outputs": [],
   "source": [
    "test_classifier(clf, dataset, feature_list)"
   ]
  },
  {
   "cell_type": "markdown",
   "metadata": {},
   "source": [
    "\"THE TRAVEL AGENCY IN THE PARK\" \n",
    "parameters = {'tree__criterion': ('gini','entropy'),\n",
    "              'tree__splitter':('best','random'),\n",
    "              'tree__min_samples_split':[2, 10, 20],\n",
    "                'tree__max_depth':[10,15,20,25,30],\n",
    "                'tree__max_leaf_nodes':[5,10,30]}"
   ]
  },
  {
   "cell_type": "code",
   "execution_count": null,
   "metadata": {
    "collapsed": true
   },
   "outputs": [],
   "source": [
    "KNeighborsClassifier "
   ]
  }
 ],
 "metadata": {
  "kernelspec": {
   "display_name": "Python 2",
   "language": "python",
   "name": "python2"
  },
  "language_info": {
   "codemirror_mode": {
    "name": "ipython",
    "version": 2
   },
   "file_extension": ".py",
   "mimetype": "text/x-python",
   "name": "python",
   "nbconvert_exporter": "python",
   "pygments_lexer": "ipython2",
   "version": "2.7.11"
  }
 },
 "nbformat": 4,
 "nbformat_minor": 0
}
