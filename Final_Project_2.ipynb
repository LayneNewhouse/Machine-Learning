{
 "cells": [
  {
   "cell_type": "code",
   "execution_count": 1,
   "metadata": {
    "collapsed": false
   },
   "outputs": [
    {
     "name": "stderr",
     "output_type": "stream",
     "text": [
      "C:\\Users\\layne\\Anaconda2\\lib\\site-packages\\sklearn\\cross_validation.py:44: DeprecationWarning: This module was deprecated in version 0.18 in favor of the model_selection module into which all the refactored classes and functions are moved. Also note that the interface of the new CV iterators are different from that of this module. This module will be removed in 0.20.\n",
      "  \"This module will be removed in 0.20.\", DeprecationWarning)\n"
     ]
    }
   ],
   "source": [
    "import matplotlib.pyplot as plt\n",
    "import seaborn as sns \n",
    "import pandas as pd\n",
    "import numpy as np\n",
    "import warnings\n",
    "import pickle\n",
    "import sys\n",
    "\n",
    "%matplotlib inline\n",
    "sys.path.append(\"../tools/\")\n",
    "\n",
    "from feature_format import featureFormat, targetFeatureSplit\n",
    "from tester import dump_classifier_and_data, test_classifier\n",
    "\n",
    "from sklearn.model_selection import GridSearchCV, StratifiedShuffleSplit, RandomizedSearchCV\n",
    "from sklearn.feature_selection import SelectKBest, f_classif\n",
    "from sklearn.pipeline import Pipeline, FeatureUnion\n",
    "from sklearn.preprocessing import MinMaxScaler\n",
    "from sklearn.decomposition import PCA\n",
    "from scipy.stats import randint\n",
    "from scipy import stats\n",
    "from time import time\n",
    "\n",
    "from sklearn.ensemble import RandomForestClassifier, AdaBoostClassifier\n",
    "from sklearn.neighbors import KNeighborsClassifier\n",
    "from sklearn.tree import DecisionTreeClassifier\n",
    "from sklearn.naive_bayes import GaussianNB\n",
    "from sklearn.svm import SVC"
   ]
  },
  {
   "cell_type": "code",
   "execution_count": 2,
   "metadata": {
    "collapsed": true
   },
   "outputs": [],
   "source": [
    "with open(\"final_project_dataset.pkl\", \"r\") as data_file:\n",
    "    enron_data = pickle.load(data_file)"
   ]
  },
  {
   "cell_type": "code",
   "execution_count": 3,
   "metadata": {
    "collapsed": false
   },
   "outputs": [],
   "source": [
    "names = []\n",
    "zeros = []\n",
    "pois = []\n",
    "for person in enron_data:\n",
    "    zero = 0\n",
    "    pois.append(enron_data[person]['poi'])\n",
    "    for key in enron_data[person]:\n",
    "        value = enron_data[person][key]\n",
    "        if value == (0 or 'NaN'):\n",
    "            zero += 1\n",
    "    names.append(person)\n",
    "    zeros.append(zero)"
   ]
  },
  {
   "cell_type": "code",
   "execution_count": 31,
   "metadata": {
    "collapsed": false
   },
   "outputs": [
    {
     "data": {
      "text/plain": [
       "(array([  6.,  43.,  16.,  12.,  10.,  24.,   6.,  18.,  10.,   1.]),\n",
       " array([  2. ,   3.8,   5.6,   7.4,   9.2,  11. ,  12.8,  14.6,  16.4,\n",
       "         18.2,  20. ]),\n",
       " <a list of 10 Patch objects>)"
      ]
     },
     "execution_count": 31,
     "metadata": {},
     "output_type": "execute_result"
    },
    {
     "data": {
      "image/png": "[encoded data removed]",
      "text/plain": [
       "<matplotlib.figure.Figure at 0x10604d68>"
      ]
     },
     "metadata": {},
     "output_type": "display_data"
    }
   ],
   "source": [
    "plt.hist(zeros)"
   ]
  },
  {
   "cell_type": "code",
   "execution_count": 4,
   "metadata": {
    "collapsed": false
   },
   "outputs": [],
   "source": [
    "poi_true = []\n",
    "poi_false = []\n",
    "for i in range(0, len(zeros)):\n",
    "    if pois[i] == True:\n",
    "        poi_true.append(zeros[i])\n",
    "    else:\n",
    "        poi_false.append(zeros[i])"
   ]
  },
  {
   "cell_type": "code",
   "execution_count": 5,
   "metadata": {
    "collapsed": false
   },
   "outputs": [
    {
     "data": {
      "image/png": "[encoded data removed]",
      "text/plain": [
       "<matplotlib.figure.Figure at 0xb9993c8>"
      ]
     },
     "metadata": {},
     "output_type": "display_data"
    }
   ],
   "source": [
    "binwidth = 1\n",
    "bins= range(min(poi_false), max(poi_false) + binwidth, binwidth)\n",
    "\n",
    "plt.hist(poi_true, bins, alpha=0.5, label='POI')\n",
    "plt.hist(poi_false, bins, alpha=0.5, label='Non POI')\n",
    "plt.legend(loc='upper right')\n",
    "plt.xticks(np.arange(min(poi_false), max(poi_false)+1, 1.0))\n",
    "plt.xlim(0, 22)\n",
    "plt.show()"
   ]
  },
  {
   "cell_type": "code",
   "execution_count": null,
   "metadata": {
    "collapsed": false
   },
   "outputs": [],
   "source": [
    "poi_true"
   ]
  },
  {
   "cell_type": "code",
   "execution_count": 6,
   "metadata": {
    "collapsed": false
   },
   "outputs": [
    {
     "name": "stdout",
     "output_type": "stream",
     "text": [
      "LOWRY CHARLES P\n",
      "WALTERS GARETH W\n",
      "CHAN RONNIE\n",
      "WODRASKA JOHN\n",
      "URQUHART JOHN A\n",
      "WHALEY DAVID A\n",
      "MENDELSOHN JOHN\n",
      "CLINE KENNETH W\n",
      "WAKEHAM JOHN\n",
      "DUNCAN JOHN H\n",
      "LEMAISTRE CHARLES\n",
      "WROBEL BRUCE\n",
      "MEYER JEROME J\n",
      "SCRIMSHAW MATTHEW\n",
      "GATHMANN WILLIAM D\n",
      "GILLIS JOHN\n",
      "LOCKHART EUGENE E\n",
      "PEREIRA PAULO V. FERRAZ\n",
      "BLAKE JR. NORMAN P\n",
      "GRAY RODNEY\n",
      "THE TRAVEL AGENCY IN THE PARK\n",
      "NOLES JAMES L\n",
      "CHRISTODOULOU DIOMEDES\n",
      "WINOKUR JR. HERBERT S\n",
      "BADUM JAMES P\n",
      "YEAP SOON\n",
      "FUGH JOHN L\n",
      "SAVAGE FRANK\n",
      "GRAMM WENDY L\n"
     ]
    },
    {
     "data": {
      "text/plain": [
       "{'bonus': 97343619,\n",
       " 'deferral_payments': 32083396,\n",
       " 'deferred_income': -27992891,\n",
       " 'director_fees': 1398517,\n",
       " 'email_address': 'NaN',\n",
       " 'exercised_stock_options': 311764000,\n",
       " 'expenses': 5235198,\n",
       " 'from_messages': 'NaN',\n",
       " 'from_poi_to_this_person': 'NaN',\n",
       " 'from_this_person_to_poi': 'NaN',\n",
       " 'loan_advances': 83925000,\n",
       " 'long_term_incentive': 48521928,\n",
       " 'other': 42667589,\n",
       " 'poi': False,\n",
       " 'restricted_stock': 130322299,\n",
       " 'restricted_stock_deferred': -7576788,\n",
       " 'salary': 26704229,\n",
       " 'shared_receipt_with_poi': 'NaN',\n",
       " 'to_messages': 'NaN',\n",
       " 'total_payments': 309886585,\n",
       " 'total_stock_value': 434509511}"
      ]
     },
     "execution_count": 6,
     "metadata": {},
     "output_type": "execute_result"
    }
   ],
   "source": [
    "for i in range(0, len(zeros)):\n",
    "    if zeros[i] > 14:\n",
    "        enron_data.pop(names[i], 0)\n",
    "        print names[i]\n",
    "        \n",
    "enron_data.pop(\"TOTAL\", 0)"
   ]
  },
  {
   "cell_type": "code",
   "execution_count": null,
   "metadata": {
    "collapsed": true
   },
   "outputs": [],
   "source": []
  },
  {
   "cell_type": "code",
   "execution_count": 7,
   "metadata": {
    "collapsed": false
   },
   "outputs": [],
   "source": [
    "enron_df = pd.DataFrame.from_dict(enron_data, \"index\")\n",
    "\n",
    "financial_features = ['salary', 'deferral_payments', 'total_payments', 'loan_advances', 'bonus',\n",
    "                      'restricted_stock_deferred', 'deferred_income', 'total_stock_value', 'expenses',\n",
    "                      'exercised_stock_options', 'other', 'long_term_incentive', 'restricted_stock', 'director_fees']\n",
    "removed_financial_features = ['deferral_payments', 'loan_advances', 'restricted_stock_deferred', 'director_fees']\n",
    "\n",
    "financial_features = [feature for feature in financial_features if feature not in removed_financial_features]\n",
    "financial_df = enron_df[financial_features]\n",
    "financial_df = financial_df.replace(\"NaN\", 0)\n",
    "financial_df[\"bonus_over_salary\"] = financial_df[\"bonus\"] / financial_df[\"salary\"]\n",
    "financial_df[\"stock_value_over_salary\"] = financial_df[\"total_stock_value\"] / financial_df[\"salary\"]\n",
    "\n",
    "financial_df = financial_df.drop(\"exercised_stock_options\", 1)\n",
    "\n",
    "email_features = ['to_messages', 'from_poi_to_this_person', 'from_messages', \n",
    "                  'from_this_person_to_poi', 'shared_receipt_with_poi']\n",
    "\n",
    "email_df = enron_df[email_features]\n",
    "email_df = email_df.replace(\"NaN\", 0)\n",
    "email_df[\"received_from_poi_over_toal_received\"] = email_df[\"from_poi_to_this_person\"] / email_df[\"to_messages\"]\n",
    "email_df[\"sent_to_poi_over_toal_sent\"] = email_df[\"from_this_person_to_poi\"] / email_df[\"from_messages\"]\n",
    "\n",
    "\n",
    "features_df = financial_df.join(email_df).join(enron_df[\"poi\"])\n",
    "features_df[\"payments_over_sent_poi_ratio\"] = financial_df[\"total_payments\"] / email_df[\"sent_to_poi_over_toal_sent\"]\n",
    "features_df[\"payments_over_received_poi_ratio\"] = financial_df[\"total_payments\"] / email_df[\"received_from_poi_over_toal_received\"]\n",
    "\n",
    "features_df = features_df.replace([\"inf\",\"-inf\", \"NaN\"], 0)\n",
    "dataset = features_df.to_dict(orient='index')\n",
    "\n",
    "labels_df = enron_df[\"poi\"]\n",
    "\n",
    "feature_list = []\n",
    "feature_list = features_df.columns.tolist()\n",
    "#move poi to front of list for tester.py\n",
    "feature_list.insert(0, feature_list.pop(feature_list.index('poi')))\n"
   ]
  },
  {
   "cell_type": "code",
   "execution_count": 8,
   "metadata": {
    "collapsed": true
   },
   "outputs": [],
   "source": [
    "def twoFeatureScatter(data, f1Label, f2Label):\n",
    "    features = [f1Label, f2Label]\n",
    "    data = featureFormat(enron_data, features)\n",
    "    for point in data:\n",
    "        f1 = point[0]\n",
    "        f2 = point[1]\n",
    "        plt.scatter(f1, f2)\n",
    "\n",
    "    plt.xlabel(f1Label)\n",
    "    plt.ylabel(f2Label)\n",
    "    plt.show()"
   ]
  },
  {
   "cell_type": "code",
   "execution_count": 10,
   "metadata": {
    "collapsed": false
   },
   "outputs": [
    {
     "data": {
      "image/png": "[encoded data removed]",
      "text/plain": [
       "<matplotlib.figure.Figure at 0xc267550>"
      ]
     },
     "metadata": {},
     "output_type": "display_data"
    }
   ],
   "source": [
    "twoFeatureScatter(dataset, 'salary', 'bonus')"
   ]
  },
  {
   "cell_type": "markdown",
   "metadata": {},
   "source": [
    "PCA before SelectKBest in order to reduce infromation loss. Using Gaussian NB in one test PCA before SKB increased the F1 score from 0.26316 to 0.35967"
   ]
  },
  {
   "cell_type": "code",
   "execution_count": 36,
   "metadata": {
    "collapsed": true
   },
   "outputs": [],
   "source": [
    "pipe = Pipeline(steps=[\n",
    "        ('scaler', MinMaxScaler()),\n",
    "        ('pca', PCA()),\n",
    "        ('skb', SelectKBest())\n",
    "    ])\n",
    "param = {\n",
    "        'skb__k':randint(1,9),\n",
    "        'pca__n_components':randint(8,19)\n",
    "    }"
   ]
  },
  {
   "cell_type": "code",
   "execution_count": 37,
   "metadata": {
    "collapsed": false
   },
   "outputs": [],
   "source": [
    "names = []\n",
    "pipes = []\n",
    "params = []\n",
    "\n",
    "names.append('Gaussian Naive Bayes')\n",
    "pipes.append(('gnb', GaussianNB()))\n",
    "params.append({\n",
    "    })\n",
    "\n",
    "names.append('Support Vector Machine')\n",
    "pipes.append(('svc', SVC()))\n",
    "params.append({\n",
    "        'svc__kernel':('poly', 'rbf', 'sigmoid'), \n",
    "        'svc__C':randint(1,151), \n",
    "        'svc__gamma':randint(1,21)\n",
    "    })\n",
    "\n",
    "names.append('Decision Tree Classifier')\n",
    "pipes.append(('dtc', DecisionTreeClassifier()))\n",
    "params.append({\n",
    "        'dtc__criterion':('gini', 'entropy'), \n",
    "        'dtc__splitter':('best', 'random'),\n",
    "        'dtc__min_samples_split':randint(2,26),\n",
    "        'dtc__max_depth':randint(10,51),\n",
    "        'dtc__max_leaf_nodes':randint(5,31)\n",
    "    })\n",
    "\n",
    "names.append('K Neigbors Classifier')\n",
    "pipes.append(('knc', KNeighborsClassifier()))\n",
    "params.append({\n",
    "        'knc__n_neighbors':randint(1, 31), \n",
    "        'knc__weights':('uniform', 'distance')\n",
    "    })\n",
    "\n",
    "names.append('Random Forest Classifier')\n",
    "pipes.append(('rfc', RandomForestClassifier()))\n",
    "params.append({\n",
    "        'rfc__n_estimators':randint(2,21), \n",
    "        'rfc__criterion':('gini','entropy')\n",
    "    })\n",
    "\n",
    "names.append('AdaBoost Classifier')\n",
    "pipes.append(('abc', AdaBoostClassifier()))\n",
    "params.append({\n",
    "        'abc__n_estimators':randint(2,11), \n",
    "        'abc__learning_rate':randint(1,6)\n",
    "    })\n",
    "\n",
    "pipelines = []\n",
    "parameters = []\n",
    "\n",
    "for i in range(0, len(pipes)):\n",
    "    pipelines.append(Pipeline(steps=[x for x in pipe.steps]))\n",
    "    pipelines[i].steps.append(pipes[i])\n",
    "    parameters.append(param.copy())\n",
    "    parameters[i].update(params[i])\n",
    "    \n",
    "classifiers = []\n",
    "classifiers.extend((names, pipelines, parameters))"
   ]
  },
  {
   "cell_type": "code",
   "execution_count": null,
   "metadata": {
    "collapsed": true
   },
   "outputs": [],
   "source": [
    "#hold\n",
    "names.append('K Neigbors Classifier (Ball Tree)')\n",
    "pipes.append(('knc', KNeighborsClassifier()))\n",
    "params.append({\n",
    "        'knc__algorithm':['ball_tree'],\n",
    "        'knc__leaf_size':randint(5,100),\n",
    "        'knc__p':randint(1,5),\n",
    "        'knc__n_neighbors':randint(1,26), \n",
    "        'knc__weights':('uniform', 'distance')\n",
    "    })\n",
    "\n",
    "names.append('K Neigbors Classifier (KD Tree)')\n",
    "pipes.append(('knc', KNeighborsClassifier()))\n",
    "params.append({\n",
    "        'knc__algorithm':['kd_tree'],\n",
    "        'knc__leaf_size':randint(5,100),\n",
    "        'knc__p':randint(1,5),\n",
    "        'knc__n_neighbors':randint(1,26), \n",
    "        'knc__weights':('uniform', 'distance')\n",
    "    })\n",
    "\n",
    "names.append('K Neigbors Classifier (Brute)')\n",
    "pipes.append(('knc', KNeighborsClassifier()))\n",
    "params.append({\n",
    "        'knc__algorithm':['brute'],\n",
    "        'knc__p':randint(1,5),\n",
    "        'knc__n_neighbors':randint(1,26), \n",
    "        'knc__weights':('uniform', 'distance')\n",
    "    })\n"
   ]
  },
  {
   "cell_type": "code",
   "execution_count": 25,
   "metadata": {
    "collapsed": true
   },
   "outputs": [],
   "source": [
    "def search_test_classifier(n_iter, n_splits, folds, clfs, dataset, feature_list):\n",
    "    \n",
    "    cv = StratifiedShuffleSplit(n_splits=n_splits, random_state=42, \n",
    "                                          test_size=0.3)\n",
    "    for i in range(0,len(clfs[0])):\n",
    "        print \"\\n\", clfs[0][i], \"------------------------------------------\"\n",
    "        \n",
    "        start = t0 = time() \n",
    "        warnings.filterwarnings('ignore')\n",
    "        rs = RandomizedSearchCV(clfs[1][i], param_distributions=clfs[2][i],\n",
    "                                n_iter=n_iter, scoring='f1', cv=cv,\n",
    "                                random_state=42)\n",
    "        rs.fit(features_df, labels_df)\n",
    "        print \"\\nSearch/Fit Time:\", round(time()-t0, 3), \"s\\n\"\n",
    "\n",
    "        t0 = time() \n",
    "        test_classifier(rs.best_estimator_, dataset, feature_list, folds=folds)\n",
    "        print \"Test Time:\", round(time()-t0, 3), \"s\"\n",
    "    \n",
    "    print \"\\nTotal Run Time:\", round(time()-start, 3), \"s\""
   ]
  },
  {
   "cell_type": "code",
   "execution_count": 26,
   "metadata": {
    "collapsed": false
   },
   "outputs": [],
   "source": [
    "def remove_classifier(target, clfs):\n",
    "    for i in range(0,len(clfs[0])):\n",
    "        if clfs[0][i] == target:\n",
    "            clfs[0].remove(clfs[0][i])\n",
    "            clfs[1].remove(clfs[1][i])\n",
    "            clfs[2].remove(clfs[2][i])\n",
    "            break"
   ]
  },
  {
   "cell_type": "code",
   "execution_count": 38,
   "metadata": {
    "collapsed": false
   },
   "outputs": [
    {
     "name": "stdout",
     "output_type": "stream",
     "text": [
      "GaussianNB(priors=None)\n",
      "\tAccuracy: 0.79483\tPrecision: 0.35324\tRecall: 0.27800\tF1: 0.31114\tF2: 0.29037\n",
      "\tTotal predictions: 12000\tTrue positives:  556\tFalse positives: 1018\tFalse negatives: 1444\tTrue negatives: 8982\n",
      "\n"
     ]
    }
   ],
   "source": [
    "test_classifier(GaussianNB(), dataset, feature_list)"
   ]
  },
  {
   "cell_type": "code",
   "execution_count": 27,
   "metadata": {
    "collapsed": false
   },
   "outputs": [
    {
     "name": "stdout",
     "output_type": "stream",
     "text": [
      "GaussianNB(priors=None)\n",
      "\tAccuracy: 0.73060\tPrecision: 0.25802\tRecall: 0.18500\tF1: 0.21549\tF2: 0.19610\n",
      "\tTotal predictions: 5000\tTrue positives:  185\tFalse positives:  532\tFalse negatives:  815\tTrue negatives: 3468\n",
      "\n"
     ]
    }
   ],
   "source": [
    "test_classifier(GaussianNB(), dataset, feature_list)"
   ]
  },
  {
   "cell_type": "markdown",
   "metadata": {},
   "source": [
    "Testing Classifiers, first run through"
   ]
  },
  {
   "cell_type": "code",
   "execution_count": 14,
   "metadata": {
    "collapsed": false
   },
   "outputs": [
    {
     "name": "stdout",
     "output_type": "stream",
     "text": [
      "\n",
      "Gaussian Naive Bayes ------------------------------------------\n",
      "\n",
      "Search/Fit Time: 19.223 s\n",
      "\n",
      "Pipeline(steps=[('scaler', MinMaxScaler(copy=True, feature_range=(0, 1))), ('pca', PCA(copy=True, iterated_power='auto', n_components=12, random_state=None,\n",
      "  svd_solver='auto', tol=0.0, whiten=False)), ('skb', SelectKBest(k=2, score_func=<function f_classif at 0x000000000AB30898>)), ('gnb', GaussianNB(priors=None))])\n",
      "\tAccuracy: 0.79983\tPrecision: 0.34173\tRecall: 0.21700\tF1: 0.26544\tF2: 0.23409\n",
      "\tTotal predictions: 12000\tTrue positives:  434\tFalse positives:  836\tFalse negatives: 1566\tTrue negatives: 9164\n",
      "\n",
      "Test Time: 2.018 s\n",
      "\n",
      "Support Vector Machine ------------------------------------------\n",
      "\n",
      "Search/Fit Time: 33.137 s\n",
      "\n",
      "Pipeline(steps=[('scaler', MinMaxScaler(copy=True, feature_range=(0, 1))), ('pca', PCA(copy=True, iterated_power='auto', n_components=16, random_state=None,\n",
      "  svd_solver='auto', tol=0.0, whiten=False)), ('skb', SelectKBest(k=7, score_func=<function f_classif at 0x000000000AB30898>)), ('svc', SVC(C=18, cache_...,\n",
      "  max_iter=-1, probability=False, random_state=None, shrinking=True,\n",
      "  tol=0.001, verbose=False))])\n",
      "\tAccuracy: 0.78067\tPrecision: 0.26061\tRecall: 0.17200\tF1: 0.20723\tF2: 0.18455\n",
      "\tTotal predictions: 12000\tTrue positives:  344\tFalse positives:  976\tFalse negatives: 1656\tTrue negatives: 9024\n",
      "\n",
      "Test Time: 2.736 s\n",
      "\n",
      "Decision Tree Classifier ------------------------------------------\n",
      "\n",
      "Search/Fit Time: 23.841 s\n",
      "\n",
      "Pipeline(steps=[('scaler', MinMaxScaler(copy=True, feature_range=(0, 1))), ('pca', PCA(copy=True, iterated_power='auto', n_components=13, random_state=None,\n",
      "  svd_solver='auto', tol=0.0, whiten=False)), ('skb', SelectKBest(k=6, score_func=<function f_classif at 0x000000000AB30898>)), ('dtc', DecisionTreeClas...    min_weight_fraction_leaf=0.0, presort=False, random_state=None,\n",
      "            splitter='random'))])\n",
      "\tAccuracy: 0.79625\tPrecision: 0.19054\tRecall: 0.06850\tF1: 0.10077\tF2: 0.07856\n",
      "\tTotal predictions: 12000\tTrue positives:  137\tFalse positives:  582\tFalse negatives: 1863\tTrue negatives: 9418\n",
      "\n",
      "Test Time: 1.849 s\n",
      "\n",
      "K Neigbors Classifier ------------------------------------------\n",
      "\n",
      "Search/Fit Time: 26.024 s\n",
      "\n",
      "Pipeline(steps=[('scaler', MinMaxScaler(copy=True, feature_range=(0, 1))), ('pca', PCA(copy=True, iterated_power='auto', n_components=12, random_state=None,\n",
      "  svd_solver='auto', tol=0.0, whiten=False)), ('skb', SelectKBest(k=7, score_func=<function f_classif at 0x000000000AB30898>)), ('knc', KNeighborsClassifier(algorithm='auto', leaf_size=30, metric='minkowski',\n",
      "           metric_params=None, n_jobs=1, n_neighbors=4, p=2,\n",
      "           weights='distance'))])\n",
      "\tAccuracy: 0.80167\tPrecision: 0.27327\tRecall: 0.11450\tF1: 0.16138\tF2: 0.12955\n",
      "\tTotal predictions: 12000\tTrue positives:  229\tFalse positives:  609\tFalse negatives: 1771\tTrue negatives: 9391\n",
      "\n",
      "Test Time: 2.726 s\n",
      "\n",
      "K Neigbors Classifier (Ball Tree) ------------------------------------------\n",
      "\n",
      "Search/Fit Time: 31.145 s\n",
      "\n",
      "Pipeline(steps=[('scaler', MinMaxScaler(copy=True, feature_range=(0, 1))), ('pca', PCA(copy=True, iterated_power='auto', n_components=10, random_state=None,\n",
      "  svd_solver='auto', tol=0.0, whiten=False)), ('skb', SelectKBest(k=4, score_func=<function f_classif at 0x000000000AB30898>)), ('knc', KNeighborsClassifier(algorithm='ball_tree', leaf_size=95, metric='minkowski',\n",
      "           metric_params=None, n_jobs=1, n_neighbors=10, p=4,\n",
      "           weights='distance'))])\n",
      "\tAccuracy: 0.82508\tPrecision: 0.25126\tRecall: 0.02500\tF1: 0.04548\tF2: 0.03049\n",
      "\tTotal predictions: 12000\tTrue positives:   50\tFalse positives:  149\tFalse negatives: 1950\tTrue negatives: 9851\n",
      "\n",
      "Test Time: 3.046 s\n",
      "\n",
      "K Neigbors Classifier (KD Tree) ------------------------------------------\n",
      "\n",
      "Search/Fit Time: 30.815 s\n",
      "\n",
      "Pipeline(steps=[('scaler', MinMaxScaler(copy=True, feature_range=(0, 1))), ('pca', PCA(copy=True, iterated_power='auto', n_components=10, random_state=None,\n",
      "  svd_solver='auto', tol=0.0, whiten=False)), ('skb', SelectKBest(k=4, score_func=<function f_classif at 0x000000000AB30898>)), ('knc', KNeighborsClassifier(algorithm='kd_tree', leaf_size=95, metric='minkowski',\n",
      "           metric_params=None, n_jobs=1, n_neighbors=10, p=4,\n",
      "           weights='distance'))])\n",
      "\tAccuracy: 0.82508\tPrecision: 0.25126\tRecall: 0.02500\tF1: 0.04548\tF2: 0.03049\n",
      "\tTotal predictions: 12000\tTrue positives:   50\tFalse positives:  149\tFalse negatives: 1950\tTrue negatives: 9851\n",
      "\n",
      "Test Time: 3.01 s\n",
      "\n",
      "K Neigbors Classifier (Brute) ------------------------------------------\n",
      "\n",
      "Search/Fit Time: 26.888 s\n",
      "\n",
      "Pipeline(steps=[('scaler', MinMaxScaler(copy=True, feature_range=(0, 1))), ('pca', PCA(copy=True, iterated_power='auto', n_components=10, random_state=None,\n",
      "  svd_solver='auto', tol=0.0, whiten=False)), ('skb', SelectKBest(k=4, score_func=<function f_classif at 0x000000000AB30898>)), ('knc', KNeighborsClassifier(algorithm='brute', leaf_size=30, metric='minkowski',\n",
      "           metric_params=None, n_jobs=1, n_neighbors=10, p=4,\n",
      "           weights='distance'))])\n",
      "\tAccuracy: 0.82508\tPrecision: 0.25126\tRecall: 0.02500\tF1: 0.04548\tF2: 0.03049\n",
      "\tTotal predictions: 12000\tTrue positives:   50\tFalse positives:  149\tFalse negatives: 1950\tTrue negatives: 9851\n",
      "\n",
      "Test Time: 2.269 s\n",
      "\n",
      "Random Forest Classifier ------------------------------------------\n",
      "\n",
      "Search/Fit Time: 114.723 s\n",
      "\n",
      "Pipeline(steps=[('scaler', MinMaxScaler(copy=True, feature_range=(0, 1))), ('pca', PCA(copy=True, iterated_power='auto', n_components=10, random_state=None,\n",
      "  svd_solver='auto', tol=0.0, whiten=False)), ('skb', SelectKBest(k=6, score_func=<function f_classif at 0x000000000AB30898>)), ('rfc', RandomForestClas...imators=16, n_jobs=1, oob_score=False, random_state=None,\n",
      "            verbose=0, warm_start=False))])\n",
      "\tAccuracy: 0.80183\tPrecision: 0.22206\tRecall: 0.07550\tF1: 0.11269\tF2: 0.08698\n",
      "\tTotal predictions: 12000\tTrue positives:  151\tFalse positives:  529\tFalse negatives: 1849\tTrue negatives: 9471\n",
      "\n",
      "Test Time: 54.409 s\n",
      "\n",
      "AdaBoost Classifier ------------------------------------------\n",
      "\n",
      "Search/Fit Time: 49.551 s\n",
      "\n",
      "Pipeline(steps=[('scaler', MinMaxScaler(copy=True, feature_range=(0, 1))), ('pca', PCA(copy=True, iterated_power='auto', n_components=12, random_state=None,\n",
      "  svd_solver='auto', tol=0.0, whiten=False)), ('skb', SelectKBest(k=3, score_func=<function f_classif at 0x000000000AB30898>)), ('abc', AdaBoostClassifier(algorithm='SAMME.R', base_estimator=None, learning_rate=1,\n",
      "          n_estimators=4, random_state=None))])\n",
      "\tAccuracy: 0.79150\tPrecision: 0.23467\tRecall: 0.11100\tF1: 0.15071\tF2: 0.12408\n",
      "\tTotal predictions: 12000\tTrue positives:  222\tFalse positives:  724\tFalse negatives: 1778\tTrue negatives: 9276\n",
      "\n",
      "Test Time: 9.427 s\n",
      "\n",
      "Total Run Time: 58.978 s\n"
     ]
    }
   ],
   "source": [
    "search_test_classifier(25, 50, 1000, classifiers, dataset, feature_list)"
   ]
  },
  {
   "cell_type": "code",
   "execution_count": 28,
   "metadata": {
    "collapsed": false
   },
   "outputs": [
    {
     "name": "stdout",
     "output_type": "stream",
     "text": [
      "\n",
      "Gaussian Naive Bayes ------------------------------------------\n",
      "\n",
      "Search/Fit Time: 18.646 s\n",
      "\n",
      "Pipeline(steps=[('scaler', MinMaxScaler(copy=True, feature_range=(0, 1))), ('pca', PCA(copy=True, iterated_power='auto', n_components=17, random_state=None,\n",
      "  svd_solver='auto', tol=0.0, whiten=False)), ('skb', SelectKBest(k=3, score_func=<function f_classif at 0x000000000AB30898>)), ('gnb', GaussianNB(priors=None))])\n",
      "\tAccuracy: 0.71800\tPrecision: 0.15254\tRecall: 0.09000\tF1: 0.11321\tF2: 0.09804\n",
      "\tTotal predictions: 5000\tTrue positives:   90\tFalse positives:  500\tFalse negatives:  910\tTrue negatives: 3500\n",
      "\n",
      "Test Time: 1.876 s\n",
      "\n",
      "Support Vector Machine ------------------------------------------\n",
      "\n",
      "Search/Fit Time: 24.477 s\n",
      "\n",
      "Pipeline(steps=[('scaler', MinMaxScaler(copy=True, feature_range=(0, 1))), ('pca', PCA(copy=True, iterated_power='auto', n_components=16, random_state=None,\n",
      "  svd_solver='auto', tol=0.0, whiten=False)), ('skb', SelectKBest(k=7, score_func=<function f_classif at 0x000000000AB30898>)), ('svc', SVC(C=18, cache_...,\n",
      "  max_iter=-1, probability=False, random_state=None, shrinking=True,\n",
      "  tol=0.001, verbose=False))])\n",
      "\tAccuracy: 0.65880\tPrecision: 0.15927\tRecall: 0.16500\tF1: 0.16208\tF2: 0.16382\n",
      "\tTotal predictions: 5000\tTrue positives:  165\tFalse positives:  871\tFalse negatives:  835\tTrue negatives: 3129\n",
      "\n",
      "Test Time: 1.993 s\n",
      "\n",
      "Decision Tree Classifier ------------------------------------------\n",
      "\n",
      "Search/Fit Time: 23.506 s\n",
      "\n",
      "Pipeline(steps=[('scaler', MinMaxScaler(copy=True, feature_range=(0, 1))), ('pca', PCA(copy=True, iterated_power='auto', n_components=10, random_state=None,\n",
      "  svd_solver='auto', tol=0.0, whiten=False)), ('skb', SelectKBest(k=4, score_func=<function f_classif at 0x000000000AB30898>)), ('dtc', DecisionTreeClas...      min_weight_fraction_leaf=0.0, presort=False, random_state=None,\n",
      "            splitter='best'))])\n",
      "\tAccuracy: 0.62320\tPrecision: 0.19134\tRecall: 0.27400\tF1: 0.22533\tF2: 0.25221\n",
      "\tTotal predictions: 5000\tTrue positives:  274\tFalse positives: 1158\tFalse negatives:  726\tTrue negatives: 2842\n",
      "\n",
      "Test Time: 1.778 s\n",
      "\n",
      "K Neigbors Classifier ------------------------------------------\n",
      "\n",
      "Search/Fit Time: 23.171 s\n",
      "\n",
      "Pipeline(steps=[('scaler', MinMaxScaler(copy=True, feature_range=(0, 1))), ('pca', PCA(copy=True, iterated_power='auto', n_components=11, random_state=None,\n",
      "  svd_solver='auto', tol=0.0, whiten=False)), ('skb', SelectKBest(k=5, score_func=<function f_classif at 0x000000000AB30898>)), ('knc', KNeighborsClassifier(algorithm='auto', leaf_size=30, metric='minkowski',\n",
      "           metric_params=None, n_jobs=1, n_neighbors=7, p=2,\n",
      "           weights='uniform'))])\n",
      "\tAccuracy: 0.68320\tPrecision: 0.08166\tRecall: 0.05700\tF1: 0.06714\tF2: 0.06066\n",
      "\tTotal predictions: 5000\tTrue positives:   57\tFalse positives:  641\tFalse negatives:  943\tTrue negatives: 3359\n",
      "\n",
      "Test Time: 2.507 s\n",
      "\n",
      "K Neigbors Classifier (Ball Tree) ------------------------------------------\n",
      "\n",
      "Search/Fit Time: 27.191 s\n",
      "\n",
      "Pipeline(steps=[('scaler', MinMaxScaler(copy=True, feature_range=(0, 1))), ('pca', PCA(copy=True, iterated_power='auto', n_components=18, random_state=None,\n",
      "  svd_solver='auto', tol=0.0, whiten=False)), ('skb', SelectKBest(k=8, score_func=<function f_classif at 0x000000000AB30898>)), ('knc', KNeighborsClassifier(algorithm='ball_tree', leaf_size=10, metric='minkowski',\n",
      "           metric_params=None, n_jobs=1, n_neighbors=12, p=4,\n",
      "           weights='distance'))])\n",
      "\tAccuracy: 0.75020\tPrecision: 0.04727\tRecall: 0.01300\tF1: 0.02039\tF2: 0.01520\n",
      "\tTotal predictions: 5000\tTrue positives:   13\tFalse positives:  262\tFalse negatives:  987\tTrue negatives: 3738\n",
      "\n",
      "Test Time: 2.696 s\n",
      "\n",
      "K Neigbors Classifier (KD Tree) ------------------------------------------\n",
      "\n",
      "Search/Fit Time: 27.461 s\n",
      "\n",
      "Pipeline(steps=[('scaler', MinMaxScaler(copy=True, feature_range=(0, 1))), ('pca', PCA(copy=True, iterated_power='auto', n_components=18, random_state=None,\n",
      "  svd_solver='auto', tol=0.0, whiten=False)), ('skb', SelectKBest(k=8, score_func=<function f_classif at 0x000000000AB30898>)), ('knc', KNeighborsClassifier(algorithm='kd_tree', leaf_size=10, metric='minkowski',\n",
      "           metric_params=None, n_jobs=1, n_neighbors=12, p=4,\n",
      "           weights='distance'))])\n",
      "\tAccuracy: 0.75020\tPrecision: 0.04727\tRecall: 0.01300\tF1: 0.02039\tF2: 0.01520\n",
      "\tTotal predictions: 5000\tTrue positives:   13\tFalse positives:  262\tFalse negatives:  987\tTrue negatives: 3738\n",
      "\n",
      "Test Time: 2.654 s\n",
      "\n",
      "K Neigbors Classifier (Brute) ------------------------------------------\n",
      "\n",
      "Search/Fit Time: 22.959 s\n",
      "\n",
      "Pipeline(steps=[('scaler', MinMaxScaler(copy=True, feature_range=(0, 1))), ('pca', PCA(copy=True, iterated_power='auto', n_components=18, random_state=None,\n",
      "  svd_solver='auto', tol=0.0, whiten=False)), ('skb', SelectKBest(k=8, score_func=<function f_classif at 0x000000000AB30898>)), ('knc', KNeighborsClassifier(algorithm='brute', leaf_size=30, metric='minkowski',\n",
      "           metric_params=None, n_jobs=1, n_neighbors=12, p=4,\n",
      "           weights='distance'))])\n",
      "\tAccuracy: 0.75020\tPrecision: 0.04727\tRecall: 0.01300\tF1: 0.02039\tF2: 0.01520\n",
      "\tTotal predictions: 5000\tTrue positives:   13\tFalse positives:  262\tFalse negatives:  987\tTrue negatives: 3738\n",
      "\n",
      "Test Time: 1.983 s\n",
      "\n",
      "Random Forest Classifier ------------------------------------------\n",
      "\n",
      "Search/Fit Time: 115.267 s\n",
      "\n",
      "Pipeline(steps=[('scaler', MinMaxScaler(copy=True, feature_range=(0, 1))), ('pca', PCA(copy=True, iterated_power='auto', n_components=13, random_state=None,\n",
      "  svd_solver='auto', tol=0.0, whiten=False)), ('skb', SelectKBest(k=2, score_func=<function f_classif at 0x000000000AB30898>)), ('rfc', RandomForestClas...imators=19, n_jobs=1, oob_score=False, random_state=None,\n",
      "            verbose=0, warm_start=False))])\n",
      "\tAccuracy: 0.65720\tPrecision: 0.17188\tRecall: 0.18700\tF1: 0.17912\tF2: 0.18377\n",
      "\tTotal predictions: 5000\tTrue positives:  187\tFalse positives:  901\tFalse negatives:  813\tTrue negatives: 3099\n",
      "\n",
      "Test Time: 59.674 s\n",
      "\n",
      "AdaBoost Classifier ------------------------------------------\n",
      "\n",
      "Search/Fit Time: 41.852 s\n",
      "\n",
      "Pipeline(steps=[('scaler', MinMaxScaler(copy=True, feature_range=(0, 1))), ('pca', PCA(copy=True, iterated_power='auto', n_components=16, random_state=None,\n",
      "  svd_solver='auto', tol=0.0, whiten=False)), ('skb', SelectKBest(k=3, score_func=<function f_classif at 0x000000000AB30898>)), ('abc', AdaBoostClassifier(algorithm='SAMME.R', base_estimator=None, learning_rate=1,\n",
      "          n_estimators=2, random_state=None))])\n",
      "\tAccuracy: 0.67360\tPrecision: 0.17951\tRecall: 0.17700\tF1: 0.17825\tF2: 0.17750\n",
      "\tTotal predictions: 5000\tTrue positives:  177\tFalse positives:  809\tFalse negatives:  823\tTrue negatives: 3191\n",
      "\n",
      "Test Time: 5.18 s\n",
      "\n",
      "Total Run Time: 47.032 s\n"
     ]
    }
   ],
   "source": [
    "search_test_classifier(50, 50, 1000, classifiers, dataset, feature_list)"
   ]
  },
  {
   "cell_type": "code",
   "execution_count": null,
   "metadata": {
    "collapsed": true
   },
   "outputs": [],
   "source": [
    "remove_classifier(\"Gaussian Naive Bayes\", classifiers)"
   ]
  },
  {
   "cell_type": "code",
   "execution_count": null,
   "metadata": {
    "collapsed": true
   },
   "outputs": [],
   "source": [
    "remove_classifier(\"Support Vector Machine\", classifiers)"
   ]
  },
  {
   "cell_type": "code",
   "execution_count": null,
   "metadata": {
    "collapsed": true
   },
   "outputs": [],
   "source": [
    "remove_classifier(\"Decision Tree Classifier\", classifiers)"
   ]
  },
  {
   "cell_type": "code",
   "execution_count": null,
   "metadata": {
    "collapsed": true
   },
   "outputs": [],
   "source": [
    "#remove_classifier(\"K Neigbors Classifier\", classifiers)"
   ]
  },
  {
   "cell_type": "code",
   "execution_count": null,
   "metadata": {
    "collapsed": true
   },
   "outputs": [],
   "source": [
    "remove_classifier(\"Random Forest Classifier\", classifiers)"
   ]
  },
  {
   "cell_type": "code",
   "execution_count": null,
   "metadata": {
    "collapsed": true
   },
   "outputs": [],
   "source": [
    "remove_classifier(\"AdaBoost Classifier\", classifiers)"
   ]
  },
  {
   "cell_type": "code",
   "execution_count": null,
   "metadata": {
    "collapsed": false
   },
   "outputs": [],
   "source": [
    "names = []\n",
    "pipes = []\n",
    "params = []\n",
    "\n",
    "names.append('K Neigbors Classifier (Ball Tree)')\n",
    "pipes.append(('knc', KNeighborsClassifier()))\n",
    "params.append({\n",
    "        'knc__algorithm':['ball_tree'],\n",
    "        'knc__leaf_size':randint(5,100),\n",
    "        'knc__p':randint(1,5),\n",
    "        'knc__n_neighbors':randint(1,26), \n",
    "        'knc__weights':('uniform', 'distance')\n",
    "    })\n",
    "\n",
    "names.append('K Neigbors Classifier (KD Tree)')\n",
    "pipes.append(('knc', KNeighborsClassifier()))\n",
    "params.append({\n",
    "        'knc__algorithm':['kd_tree'],\n",
    "        'knc__leaf_size':randint(5,100),\n",
    "        'knc__p':randint(1,5),\n",
    "        'knc__n_neighbors':randint(1,26), \n",
    "        'knc__weights':('uniform', 'distance')\n",
    "    })\n",
    "\n",
    "names.append('K Neigbors Classifier (Brute)')\n",
    "pipes.append(('knc', KNeighborsClassifier()))\n",
    "params.append({\n",
    "        'knc__algorithm':['brute'],\n",
    "        'knc__p':randint(1,5),\n",
    "        'knc__n_neighbors':randint(1,26), \n",
    "        'knc__weights':('uniform', 'distance')\n",
    "    })\n",
    "\n",
    "pipelines = []\n",
    "parameters = []\n",
    "\n",
    "for i in range(0, len(pipes)):\n",
    "    pipelines.append(Pipeline(steps=[x for x in pipe.steps]))\n",
    "    pipelines[i].steps.append(pipes[i])\n",
    "    parameters.append(param.copy())\n",
    "    parameters[i].update(params[i])\n",
    "    \n",
    "classifiers = []\n",
    "classifiers.extend((names, pipelines, parameters))"
   ]
  },
  {
   "cell_type": "code",
   "execution_count": null,
   "metadata": {
    "collapsed": false
   },
   "outputs": [],
   "source": [
    "search_test_classifier(150, 50, 1000, classifiers, dataset, feature_list)"
   ]
  },
  {
   "cell_type": "markdown",
   "metadata": {},
   "source": [
    "Random Forest takes far too long to run and test so we will remove it and increase the number of iterations and folds and re-test the classifiers"
   ]
  },
  {
   "cell_type": "code",
   "execution_count": null,
   "metadata": {
    "collapsed": false
   },
   "outputs": [],
   "source": [
    "remove_classifier(\"Random Forest Classifier\", classifiers)"
   ]
  },
  {
   "cell_type": "code",
   "execution_count": null,
   "metadata": {
    "collapsed": false
   },
   "outputs": [],
   "source": [
    "search_test_classifier(50, 100, 1000, classifiers, dataset, feature_list)"
   ]
  },
  {
   "cell_type": "markdown",
   "metadata": {},
   "source": [
    "The results from the second itteration were that 3 of the 5 remaining classifiers (Gaussian Naive Bayes, Support Vector Machine, and AdaBoost) had F1 scores above 0.3. While SVM and AdaBoost did not pass on both recall and precision, we will try to run more iteration of the random search on these classifiers and see if there is any adjustments on parameters that we can make."
   ]
  },
  {
   "cell_type": "code",
   "execution_count": null,
   "metadata": {
    "collapsed": true
   },
   "outputs": [],
   "source": [
    "remove_classifier(\"Decision Tree Classifier\", classifiers)\n",
    "remove_classifier(\"K Neigbors Classifier\", classifiers)"
   ]
  },
  {
   "cell_type": "code",
   "execution_count": null,
   "metadata": {
    "collapsed": false
   },
   "outputs": [],
   "source": [
    "search_test_classifier(200, 200, 1000, classifiers, dataset, feature_list)"
   ]
  },
  {
   "cell_type": "code",
   "execution_count": null,
   "metadata": {
    "collapsed": false
   },
   "outputs": [],
   "source": [
    "search_test_classifier(200, 500, 1000, classifiers, dataset, feature_list)"
   ]
  },
  {
   "cell_type": "markdown",
   "metadata": {},
   "source": [
    "After testing the remaining classifiers with a higher number of parameter iterations and validation folds it can be seen that the Gaussian Naive Bayes classifier remains the classifer with the highest F1 score while having both percision and recall above 0.3. This being said, there could be better classifier/parameter combinations available that we not observed in this code due to the random search and/or the ranges for the random searches that were set in the parameter initalizations. "
   ]
  },
  {
   "cell_type": "code",
   "execution_count": null,
   "metadata": {
    "collapsed": false
   },
   "outputs": [],
   "source": [
    "pipe = Pipeline(steps=[\n",
    "        ('scaler', MinMaxScaler()),\n",
    "        ('pca', PCA()),\n",
    "        ('skb', SelectKBest()),\n",
    "        ('gnb', GaussianNB())\n",
    "    ])\n",
    "param = [{'skb__k':range(1,9),'pca__n_components':range(8,19)},\n",
    "         {'skb__k':range(1,8),'pca__n_components':[7]},\n",
    "         {'skb__k':range(1,7),'pca__n_components':[6]},\n",
    "         {'skb__k':range(1,6),'pca__n_components':[5]},\n",
    "         {'skb__k':range(1,5),'pca__n_components':[4]},\n",
    "         {'skb__k':range(1,4),'pca__n_components':[3]},\n",
    "         {'skb__k':range(1,3),'pca__n_components':[2]}]       "
   ]
  },
  {
   "cell_type": "code",
   "execution_count": null,
   "metadata": {
    "collapsed": false
   },
   "outputs": [],
   "source": [
    "cv = StratifiedShuffleSplit(n_splits=100, random_state=42, test_size=0.3)\n",
    "gs = GridSearchCV(pipe, param, scoring='f1', cv=cv)\n",
    "gs.fit(features_df, labels_df)\n",
    "clf = gs.best_estimator_\n",
    "gs.best_params_"
   ]
  },
  {
   "cell_type": "code",
   "execution_count": null,
   "metadata": {
    "collapsed": false
   },
   "outputs": [],
   "source": [
    "test_classifier(clf, dataset, feature_list)"
   ]
  },
  {
   "cell_type": "markdown",
   "metadata": {},
   "source": [
    "\"THE TRAVEL AGENCY IN THE PARK\" \n",
    "parameters = {'tree__criterion': ('gini','entropy'),\n",
    "              'tree__splitter':('best','random'),\n",
    "              'tree__min_samples_split':[2, 10, 20],\n",
    "                'tree__max_depth':[10,15,20,25,30],\n",
    "                'tree__max_leaf_nodes':[5,10,30]}"
   ]
  },
  {
   "cell_type": "code",
   "execution_count": null,
   "metadata": {
    "collapsed": true
   },
   "outputs": [],
   "source": [
    "KNeighborsClassifier "
   ]
  }
 ],
 "metadata": {
  "kernelspec": {
   "display_name": "Python 2",
   "language": "python",
   "name": "python2"
  },
  "language_info": {
   "codemirror_mode": {
    "name": "ipython",
    "version": 2
   },
   "file_extension": ".py",
   "mimetype": "text/x-python",
   "name": "python",
   "nbconvert_exporter": "python",
   "pygments_lexer": "ipython2",
   "version": "2.7.11"
  }
 },
 "nbformat": 4,
 "nbformat_minor": 0
}
